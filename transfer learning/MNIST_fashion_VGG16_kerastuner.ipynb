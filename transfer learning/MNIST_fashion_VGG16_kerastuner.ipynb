{
  "nbformat": 4,
  "nbformat_minor": 0,
  "metadata": {
    "kernelspec": {
      "display_name": "Python 3",
      "language": "python",
      "name": "python3"
    },
    "language_info": {
      "codemirror_mode": {
        "name": "ipython",
        "version": 3
      },
      "file_extension": ".py",
      "mimetype": "text/x-python",
      "name": "python",
      "nbconvert_exporter": "python",
      "pygments_lexer": "ipython3",
      "version": "3.7.4"
    },
    "colab": {
      "name": "MNIST_fashion.ipynb",
      "provenance": [],
      "collapsed_sections": [
        "8niRp4x9VzKg",
        "gzYEDnLBVzKi"
      ],
      "toc_visible": true,
      "include_colab_link": true
    },
    "accelerator": "GPU"
  },
  "cells": [
    {
      "cell_type": "markdown",
      "metadata": {
        "id": "view-in-github",
        "colab_type": "text"
      },
      "source": [
        "<a href=\"https://colab.research.google.com/github/santoshkumarbvp/Computer-Vision/blob/main/transfer%20learning/MNIST_fashion_VGG16_kerastuner.ipynb\" target=\"_parent\"><img src=\"https://colab.research.google.com/assets/colab-badge.svg\" alt=\"Open In Colab\"/></a>"
      ]
    },
    {
      "cell_type": "code",
      "metadata": {
        "colab": {
          "base_uri": "https://localhost:8080/"
        },
        "id": "zvBNkTujEDMQ",
        "outputId": "3115bd8b-5aac-4a7b-9657-68e53ee0717f"
      },
      "source": [
        "!pip install -q -U keras-tuner\r\n"
      ],
      "execution_count": 4,
      "outputs": [
        {
          "output_type": "stream",
          "text": [
            "\u001b[?25l\r\u001b[K     |█████▏                          | 10kB 25.9MB/s eta 0:00:01\r\u001b[K     |██████████▍                     | 20kB 21.2MB/s eta 0:00:01\r\u001b[K     |███████████████▋                | 30kB 14.5MB/s eta 0:00:01\r\u001b[K     |████████████████████▉           | 40kB 13.5MB/s eta 0:00:01\r\u001b[K     |██████████████████████████      | 51kB 8.0MB/s eta 0:00:01\r\u001b[K     |███████████████████████████████▎| 61kB 8.6MB/s eta 0:00:01\r\u001b[K     |████████████████████████████████| 71kB 5.6MB/s \n",
            "\u001b[?25h  Building wheel for keras-tuner (setup.py) ... \u001b[?25l\u001b[?25hdone\n",
            "  Building wheel for terminaltables (setup.py) ... \u001b[?25l\u001b[?25hdone\n"
          ],
          "name": "stdout"
        }
      ]
    },
    {
      "cell_type": "code",
      "metadata": {
        "id": "-GHU_TBbFc0o"
      },
      "source": [
        "import kerastuner as kt\r\n",
        "from sklearn.metrics import confusion_matrix, classification_report"
      ],
      "execution_count": 45,
      "outputs": []
    },
    {
      "cell_type": "code",
      "metadata": {
        "id": "IzHe3V61FfyD"
      },
      "source": [
        ""
      ],
      "execution_count": null,
      "outputs": []
    },
    {
      "cell_type": "code",
      "metadata": {
        "colab": {
          "base_uri": "https://localhost:8080/"
        },
        "id": "d6L1kcgPaKU5",
        "outputId": "c6b10905-cf1c-4111-b1f7-7f6d7d1bf424"
      },
      "source": [
        "!nvidia-smi"
      ],
      "execution_count": 6,
      "outputs": [
        {
          "output_type": "stream",
          "text": [
            "Fri Jan  8 13:01:19 2021       \n",
            "+-----------------------------------------------------------------------------+\n",
            "| NVIDIA-SMI 460.27.04    Driver Version: 418.67       CUDA Version: 10.1     |\n",
            "|-------------------------------+----------------------+----------------------+\n",
            "| GPU  Name        Persistence-M| Bus-Id        Disp.A | Volatile Uncorr. ECC |\n",
            "| Fan  Temp  Perf  Pwr:Usage/Cap|         Memory-Usage | GPU-Util  Compute M. |\n",
            "|                               |                      |               MIG M. |\n",
            "|===============================+======================+======================|\n",
            "|   0  Tesla P100-PCIE...  Off  | 00000000:00:04.0 Off |                    0 |\n",
            "| N/A   35C    P0    26W / 250W |      0MiB / 16280MiB |      0%      Default |\n",
            "|                               |                      |                 ERR! |\n",
            "+-------------------------------+----------------------+----------------------+\n",
            "                                                                               \n",
            "+-----------------------------------------------------------------------------+\n",
            "| Processes:                                                                  |\n",
            "|  GPU   GI   CI        PID   Type   Process name                  GPU Memory |\n",
            "|        ID   ID                                                   Usage      |\n",
            "|=============================================================================|\n",
            "|  No running processes found                                                 |\n",
            "+-----------------------------------------------------------------------------+\n"
          ],
          "name": "stdout"
        }
      ]
    },
    {
      "cell_type": "markdown",
      "metadata": {
        "id": "_UJhxoRBVzKT"
      },
      "source": [
        "## The Data\n",
        "\n",
        "**TASK 1: Run the code below to download the dataset using Keras.**"
      ]
    },
    {
      "cell_type": "code",
      "metadata": {
        "id": "8zSuzAAeVzKU",
        "colab": {
          "base_uri": "https://localhost:8080/"
        },
        "outputId": "0abfcd37-1359-42f3-cbca-5371e38a7f87"
      },
      "source": [
        "from tensorflow.keras.datasets import fashion_mnist\n",
        "\n",
        "(x_train, y_train), (x_test, y_test) = fashion_mnist.load_data()"
      ],
      "execution_count": 7,
      "outputs": [
        {
          "output_type": "stream",
          "text": [
            "Downloading data from https://storage.googleapis.com/tensorflow/tf-keras-datasets/train-labels-idx1-ubyte.gz\n",
            "32768/29515 [=================================] - 0s 0us/step\n",
            "Downloading data from https://storage.googleapis.com/tensorflow/tf-keras-datasets/train-images-idx3-ubyte.gz\n",
            "26427392/26421880 [==============================] - 0s 0us/step\n",
            "Downloading data from https://storage.googleapis.com/tensorflow/tf-keras-datasets/t10k-labels-idx1-ubyte.gz\n",
            "8192/5148 [===============================================] - 0s 0us/step\n",
            "Downloading data from https://storage.googleapis.com/tensorflow/tf-keras-datasets/t10k-images-idx3-ubyte.gz\n",
            "4423680/4422102 [==============================] - 0s 0us/step\n"
          ],
          "name": "stdout"
        }
      ]
    },
    {
      "cell_type": "markdown",
      "metadata": {
        "id": "1RSDx4qFVzKW"
      },
      "source": [
        "## Visualizing the Data\n",
        "\n",
        "**TASK 2: Use matplotlib to view an image from the data set. It can be any image from the data set.**"
      ]
    },
    {
      "cell_type": "code",
      "metadata": {
        "colab": {
          "base_uri": "https://localhost:8080/"
        },
        "id": "gNJunLjfVzKX",
        "outputId": "6eb1c0d6-2df2-4f46-a08b-8ed0a34893c0"
      },
      "source": [
        "x_train[0].shape, x_train.shape"
      ],
      "execution_count": 8,
      "outputs": [
        {
          "output_type": "execute_result",
          "data": {
            "text/plain": [
              "((28, 28), (60000, 28, 28))"
            ]
          },
          "metadata": {
            "tags": []
          },
          "execution_count": 8
        }
      ]
    },
    {
      "cell_type": "code",
      "metadata": {
        "id": "yFuV2Q50WWzb"
      },
      "source": [
        "import matplotlib.pyplot as plt\r\n",
        "from matplotlib.image import imread"
      ],
      "execution_count": 9,
      "outputs": []
    },
    {
      "cell_type": "code",
      "metadata": {
        "colab": {
          "base_uri": "https://localhost:8080/",
          "height": 282
        },
        "id": "RS_BATtBVzKY",
        "outputId": "dbdc5363-c7cf-4ebb-ea1f-116f32733ff0"
      },
      "source": [
        "plt.imshow(x_train[5])"
      ],
      "execution_count": 10,
      "outputs": [
        {
          "output_type": "execute_result",
          "data": {
            "text/plain": [
              "<matplotlib.image.AxesImage at 0x7ff415ef0748>"
            ]
          },
          "metadata": {
            "tags": []
          },
          "execution_count": 10
        },
        {
          "output_type": "display_data",
          "data": {
            "image/png": "[encoded data removed]",
            "text/plain": [
              "<Figure size 432x288 with 1 Axes>"
            ]
          },
          "metadata": {
            "tags": [],
            "needs_background": "light"
          }
        }
      ]
    },
    {
      "cell_type": "code",
      "metadata": {
        "id": "Q760h_8yVzKZ"
      },
      "source": [
        ""
      ],
      "execution_count": null,
      "outputs": []
    },
    {
      "cell_type": "markdown",
      "metadata": {
        "id": "lhqPPielVzKZ"
      },
      "source": [
        "## Preprocessing the Data\n",
        "\n",
        "**TASK 3: Normalize the X train and X test data by dividing by the max value of the image arrays.**"
      ]
    },
    {
      "cell_type": "code",
      "metadata": {
        "id": "ERXJpLU0VzKa"
      },
      "source": [
        "x_train=x_train/255\r\n",
        "x_test=x_test/255"
      ],
      "execution_count": 11,
      "outputs": []
    },
    {
      "cell_type": "code",
      "metadata": {
        "id": "lKt7YKp0VzKa"
      },
      "source": [
        ""
      ],
      "execution_count": null,
      "outputs": []
    },
    {
      "cell_type": "code",
      "metadata": {
        "id": "1divEKClVzKb"
      },
      "source": [
        ""
      ],
      "execution_count": null,
      "outputs": []
    },
    {
      "cell_type": "markdown",
      "metadata": {
        "id": "Dl8LpmsAVzKb"
      },
      "source": [
        "**Task 4: Reshape the X arrays to include a 4 dimension of the single channel. Similar to what we did for the numbers MNIST data set.**"
      ]
    },
    {
      "cell_type": "code",
      "metadata": {
        "colab": {
          "base_uri": "https://localhost:8080/"
        },
        "id": "hvtm2HJ7VzKb",
        "outputId": "16a1558e-6788-4c41-e60a-dba7ee9d27b7"
      },
      "source": [
        "x_test.shape, x_train.shape"
      ],
      "execution_count": 12,
      "outputs": [
        {
          "output_type": "execute_result",
          "data": {
            "text/plain": [
              "((10000, 28, 28), (60000, 28, 28))"
            ]
          },
          "metadata": {
            "tags": []
          },
          "execution_count": 12
        }
      ]
    },
    {
      "cell_type": "code",
      "metadata": {
        "id": "SH0ERHZjVzKc"
      },
      "source": [
        "import numpy as np"
      ],
      "execution_count": 13,
      "outputs": []
    },
    {
      "cell_type": "code",
      "metadata": {
        "id": "7ea66RXtVzKc"
      },
      "source": [
        "x_test=np.expand_dims(x_test, axis=-1)\r\n",
        "x_train=np.expand_dims(x_train, axis=-1)"
      ],
      "execution_count": 14,
      "outputs": []
    },
    {
      "cell_type": "markdown",
      "metadata": {
        "id": "g3TAOSfiVzKd"
      },
      "source": [
        "**TASK 5: Convert the y_train and y_test values to be one-hot encoded for categorical analysis by Keras.**"
      ]
    },
    {
      "cell_type": "code",
      "metadata": {
        "id": "ZgT3aZLkVzKd"
      },
      "source": [
        "from tensorflow.keras.utils import to_categorical"
      ],
      "execution_count": 15,
      "outputs": []
    },
    {
      "cell_type": "code",
      "metadata": {
        "id": "vKghGpM6VzKd"
      },
      "source": [
        "y_test_ohe = to_categorical(y_test)\r\n",
        "y_train_ohe = to_categorical(y_train)"
      ],
      "execution_count": 16,
      "outputs": []
    },
    {
      "cell_type": "code",
      "metadata": {
        "id": "3aJI3o2JVzKe"
      },
      "source": [
        ""
      ],
      "execution_count": null,
      "outputs": []
    },
    {
      "cell_type": "code",
      "metadata": {
        "id": "ZttGFkZUVzKe"
      },
      "source": [
        ""
      ],
      "execution_count": null,
      "outputs": []
    },
    {
      "cell_type": "markdown",
      "metadata": {
        "id": "mHP4tVvbVzKf"
      },
      "source": [
        "## Building the Model\n",
        "\n",
        "**TASK 5: Use Keras to create a model consisting of at least the following layers (but feel free to experiment):**\n",
        "\n",
        "* 2D Convolutional Layer, filters=32 and kernel_size=(4,4)\n",
        "* Pooling Layer where pool_size = (2,2)\n",
        "\n",
        "* Flatten Layer\n",
        "* Dense Layer (128 Neurons, but feel free to play around with this value), RELU activation\n",
        "\n",
        "* Final Dense Layer of 10 Neurons with a softmax activation\n",
        "\n",
        "**Then compile the model with these parameters: loss='categorical_crossentropy', optimizer='rmsprop', metrics=['accuracy']**"
      ]
    },
    {
      "cell_type": "code",
      "metadata": {
        "id": "hBa4A_tOVzKf"
      },
      "source": [
        "from tensorflow.keras.models import Sequential\r\n",
        "from tensorflow.keras.layers import Flatten, Dense, Conv2D, MaxPooling2D\r\n",
        "\r\n",
        "from tensorflow.keras.callbacks import EarlyStopping\r\n",
        "from tensorflow import keras"
      ],
      "execution_count": 20,
      "outputs": []
    },
    {
      "cell_type": "code",
      "metadata": {
        "id": "VFV5ctZDVzKf"
      },
      "source": [
        "def build_model(hp):\r\n",
        "  model = Sequential()\r\n",
        "  model.add(Conv2D(kernel_size=(4,4),filters=32,input_shape=(28,28,1)))\r\n",
        "  model.add(MaxPooling2D(pool_size=(2,2)))\r\n",
        "  model.add(Flatten())\r\n",
        "\r\n",
        "  hp_units = hp.Int('units', min_value = 32, max_value = 512, step = 32)\r\n",
        "  model.add(Dense(units=hp_units,activation='relu'))\r\n",
        "  \r\n",
        "  model.add(Dense(units=10,activation='softmax'))\r\n",
        "  \r\n",
        "  hp_learning_rate = hp.Choice('learning_rate', values = [1e-2, 1e-3, 1e-4]) \r\n",
        "  model.compile(loss='categorical_crossentropy', optimizer=keras.optimizers.Adam(learning_rate = hp_learning_rate),metrics=['accuracy'])\r\n",
        "  return model"
      ],
      "execution_count": 21,
      "outputs": []
    },
    {
      "cell_type": "code",
      "metadata": {
        "id": "l-hE4zl2Gxuf"
      },
      "source": [
        "tuner = kt.Hyperband(build_model,\r\n",
        "                     objective = 'val_accuracy', \r\n",
        "                     max_epochs = 10,\r\n",
        "                     factor = 3,\r\n",
        "                     directory = 'my_dir',\r\n",
        "                     project_name = 'intro_to_kt')"
      ],
      "execution_count": 22,
      "outputs": []
    },
    {
      "cell_type": "code",
      "metadata": {
        "id": "RgqQuJknc7wo"
      },
      "source": [
        "es = EarlyStopping(monitor='accuracy',patience=3)"
      ],
      "execution_count": null,
      "outputs": []
    },
    {
      "cell_type": "code",
      "metadata": {
        "colab": {
          "base_uri": "https://localhost:8080/"
        },
        "id": "qrnVuBMTHWro",
        "outputId": "80423498-8c98-4934-9547-0f08f5fdc14b"
      },
      "source": [
        "tuner.search(x_train, y_train_ohe, epochs = 10, validation_data = (x_test, y_test_ohe))\r\n"
      ],
      "execution_count": 24,
      "outputs": [
        {
          "output_type": "stream",
          "text": [
            "Trial 30 Complete [00h 00m 45s]\n",
            "val_accuracy: 0.8704000115394592\n",
            "\n",
            "Best val_accuracy So Far: 0.9103000164031982\n",
            "Total elapsed time: 00h 09m 35s\n",
            "INFO:tensorflow:Oracle triggered exit\n"
          ],
          "name": "stdout"
        }
      ]
    },
    {
      "cell_type": "code",
      "metadata": {
        "id": "E4kKIDohKoWL"
      },
      "source": [
        "best_hps = tuner.get_best_hyperparameters(num_trials = 1)[0]\r\n"
      ],
      "execution_count": 25,
      "outputs": []
    },
    {
      "cell_type": "code",
      "metadata": {
        "id": "abuNfb-QKweG",
        "outputId": "bf4b3a30-2475-484c-fed5-a3038fa7144e",
        "colab": {
          "base_uri": "https://localhost:8080/"
        }
      },
      "source": [
        "best_hps.get('units'),best_hps.get('learning_rate')"
      ],
      "execution_count": 29,
      "outputs": [
        {
          "output_type": "execute_result",
          "data": {
            "text/plain": [
              "(224, 0.001)"
            ]
          },
          "metadata": {
            "tags": []
          },
          "execution_count": 29
        }
      ]
    },
    {
      "cell_type": "markdown",
      "metadata": {
        "id": "UEHO07J9MOD7"
      },
      "source": [
        "# retrain with new parameter after keras-tuner"
      ]
    },
    {
      "cell_type": "code",
      "metadata": {
        "id": "92HidPKaLPiX"
      },
      "source": [
        "# need to retrain with optimum parameters , we get from keras-tuner. In this case , we have (224,0.001) as best parameter"
      ],
      "execution_count": 38,
      "outputs": []
    },
    {
      "cell_type": "code",
      "metadata": {
        "id": "0MB5D61_LvhF"
      },
      "source": [
        "model = Sequential()\r\n",
        "model.add(Conv2D(kernel_size=(4,4),filters=32,input_shape=(28,28,1)))\r\n",
        "model.add(MaxPooling2D(pool_size=(2,2)))\r\n",
        "model.add(Flatten())\r\n",
        "\r\n",
        "model.add(Dense(units=224,activation='relu'))\r\n",
        "  \r\n",
        "model.add(Dense(units=10,activation='softmax'))\r\n",
        "  \r\n",
        "model.compile(loss='categorical_crossentropy', optimizer=keras.optimizers.Adam(learning_rate = 0.001),metrics=['accuracy'])\r\n"
      ],
      "execution_count": 39,
      "outputs": []
    },
    {
      "cell_type": "code",
      "metadata": {
        "id": "T5GfGraKLvd6",
        "outputId": "0f35c51e-3d21-43e9-aa34-633bc914e38e",
        "colab": {
          "base_uri": "https://localhost:8080/"
        }
      },
      "source": [
        "model.fit(x_train,y_train_ohe,validation_data=(x_test,y_test_ohe), epochs=20)"
      ],
      "execution_count": 40,
      "outputs": [
        {
          "output_type": "stream",
          "text": [
            "Epoch 1/20\n",
            "1875/1875 [==============================] - 5s 2ms/step - loss: 0.5124 - accuracy: 0.8201 - val_loss: 0.3421 - val_accuracy: 0.8679\n",
            "Epoch 2/20\n",
            "1875/1875 [==============================] - 5s 2ms/step - loss: 0.2723 - accuracy: 0.8993 - val_loss: 0.2966 - val_accuracy: 0.8904\n",
            "Epoch 3/20\n",
            "1875/1875 [==============================] - 4s 2ms/step - loss: 0.2031 - accuracy: 0.9254 - val_loss: 0.2746 - val_accuracy: 0.9034\n",
            "Epoch 4/20\n",
            "1875/1875 [==============================] - 4s 2ms/step - loss: 0.1641 - accuracy: 0.9400 - val_loss: 0.2778 - val_accuracy: 0.9049\n",
            "Epoch 5/20\n",
            "1875/1875 [==============================] - 4s 2ms/step - loss: 0.1296 - accuracy: 0.9513 - val_loss: 0.2810 - val_accuracy: 0.9081\n",
            "Epoch 6/20\n",
            "1875/1875 [==============================] - 4s 2ms/step - loss: 0.1073 - accuracy: 0.9615 - val_loss: 0.2854 - val_accuracy: 0.9139\n",
            "Epoch 7/20\n",
            "1875/1875 [==============================] - 4s 2ms/step - loss: 0.0876 - accuracy: 0.9671 - val_loss: 0.3309 - val_accuracy: 0.9117\n",
            "Epoch 8/20\n",
            "1875/1875 [==============================] - 4s 2ms/step - loss: 0.0731 - accuracy: 0.9734 - val_loss: 0.3652 - val_accuracy: 0.9034\n",
            "Epoch 9/20\n",
            "1875/1875 [==============================] - 4s 2ms/step - loss: 0.0633 - accuracy: 0.9770 - val_loss: 0.4143 - val_accuracy: 0.9066\n",
            "Epoch 10/20\n",
            "1875/1875 [==============================] - 4s 2ms/step - loss: 0.0533 - accuracy: 0.9802 - val_loss: 0.4074 - val_accuracy: 0.9083\n",
            "Epoch 11/20\n",
            "1875/1875 [==============================] - 4s 2ms/step - loss: 0.0462 - accuracy: 0.9830 - val_loss: 0.4543 - val_accuracy: 0.9068\n",
            "Epoch 12/20\n",
            "1875/1875 [==============================] - 4s 2ms/step - loss: 0.0397 - accuracy: 0.9856 - val_loss: 0.4361 - val_accuracy: 0.9090\n",
            "Epoch 13/20\n",
            "1875/1875 [==============================] - 4s 2ms/step - loss: 0.0337 - accuracy: 0.9883 - val_loss: 0.4618 - val_accuracy: 0.9112\n",
            "Epoch 14/20\n",
            "1875/1875 [==============================] - 4s 2ms/step - loss: 0.0341 - accuracy: 0.9878 - val_loss: 0.5070 - val_accuracy: 0.9070\n",
            "Epoch 15/20\n",
            "1875/1875 [==============================] - 4s 2ms/step - loss: 0.0358 - accuracy: 0.9884 - val_loss: 0.5238 - val_accuracy: 0.9096\n",
            "Epoch 16/20\n",
            "1875/1875 [==============================] - 4s 2ms/step - loss: 0.0272 - accuracy: 0.9905 - val_loss: 0.5657 - val_accuracy: 0.9076\n",
            "Epoch 17/20\n",
            "1875/1875 [==============================] - 4s 2ms/step - loss: 0.0267 - accuracy: 0.9905 - val_loss: 0.5499 - val_accuracy: 0.9069\n",
            "Epoch 18/20\n",
            "1875/1875 [==============================] - 4s 2ms/step - loss: 0.0220 - accuracy: 0.9920 - val_loss: 0.6313 - val_accuracy: 0.9133\n",
            "Epoch 19/20\n",
            "1875/1875 [==============================] - 4s 2ms/step - loss: 0.0288 - accuracy: 0.9902 - val_loss: 0.6457 - val_accuracy: 0.9064\n",
            "Epoch 20/20\n",
            "1875/1875 [==============================] - 4s 2ms/step - loss: 0.0227 - accuracy: 0.9923 - val_loss: 0.6276 - val_accuracy: 0.9112\n"
          ],
          "name": "stdout"
        },
        {
          "output_type": "execute_result",
          "data": {
            "text/plain": [
              "<tensorflow.python.keras.callbacks.History at 0x7ff3b43aa198>"
            ]
          },
          "metadata": {
            "tags": []
          },
          "execution_count": 40
        }
      ]
    },
    {
      "cell_type": "code",
      "metadata": {
        "id": "MwFj5BSWLvbM"
      },
      "source": [
        "pred = model.predict(x_test)"
      ],
      "execution_count": 41,
      "outputs": []
    },
    {
      "cell_type": "code",
      "metadata": {
        "id": "muFDNZ1MLvZE",
        "outputId": "4914feda-0461-4692-b6cd-b07988d9d924",
        "colab": {
          "base_uri": "https://localhost:8080/"
        }
      },
      "source": [
        "pred.shape"
      ],
      "execution_count": 42,
      "outputs": [
        {
          "output_type": "execute_result",
          "data": {
            "text/plain": [
              "(10000, 10)"
            ]
          },
          "metadata": {
            "tags": []
          },
          "execution_count": 42
        }
      ]
    },
    {
      "cell_type": "code",
      "metadata": {
        "id": "tSEwIVN4LvWr"
      },
      "source": [
        "pred_i= np.array([np.argmax(i) for i in pred])"
      ],
      "execution_count": 44,
      "outputs": []
    },
    {
      "cell_type": "code",
      "metadata": {
        "id": "Joi9IoIULvSX",
        "outputId": "b1c24a20-0bbf-4741-9581-6bcf932e4811",
        "colab": {
          "base_uri": "https://localhost:8080/"
        }
      },
      "source": [
        "confusion_matrix(y_test, pred_i)"
      ],
      "execution_count": 46,
      "outputs": [
        {
          "output_type": "execute_result",
          "data": {
            "text/plain": [
              "array([[884,   2,  12,  16,   4,   0,  79,   0,   3,   0],\n",
              "       [  1, 975,   0,  17,   3,   0,   1,   0,   3,   0],\n",
              "       [ 24,   1, 863,   8,  43,   1,  56,   0,   4,   0],\n",
              "       [ 14,   5,   7, 923,  31,   0,  16,   0,   4,   0],\n",
              "       [  5,   1,  61,  20, 861,   0,  52,   0,   0,   0],\n",
              "       [  0,   0,   0,   0,   0, 984,   0,  14,   0,   2],\n",
              "       [135,   1,  62,  27,  62,   0, 704,   0,   9,   0],\n",
              "       [  0,   0,   0,   0,   0,   5,   0, 984,   1,  10],\n",
              "       [  5,   1,   3,   5,   1,   1,   2,   3, 979,   0],\n",
              "       [  1,   0,   0,   0,   0,   8,   0,  35,   1, 955]])"
            ]
          },
          "metadata": {
            "tags": []
          },
          "execution_count": 46
        }
      ]
    },
    {
      "cell_type": "code",
      "metadata": {
        "id": "mnpAnmV2LvQJ",
        "outputId": "24ecdc69-fdf0-4e3e-9daa-06e45a3919f2",
        "colab": {
          "base_uri": "https://localhost:8080/"
        }
      },
      "source": [
        "print(classification_report(y_test, pred_i))"
      ],
      "execution_count": 47,
      "outputs": [
        {
          "output_type": "stream",
          "text": [
            "              precision    recall  f1-score   support\n",
            "\n",
            "           0       0.83      0.88      0.85      1000\n",
            "           1       0.99      0.97      0.98      1000\n",
            "           2       0.86      0.86      0.86      1000\n",
            "           3       0.91      0.92      0.92      1000\n",
            "           4       0.86      0.86      0.86      1000\n",
            "           5       0.98      0.98      0.98      1000\n",
            "           6       0.77      0.70      0.74      1000\n",
            "           7       0.95      0.98      0.97      1000\n",
            "           8       0.98      0.98      0.98      1000\n",
            "           9       0.99      0.95      0.97      1000\n",
            "\n",
            "    accuracy                           0.91     10000\n",
            "   macro avg       0.91      0.91      0.91     10000\n",
            "weighted avg       0.91      0.91      0.91     10000\n",
            "\n"
          ],
          "name": "stdout"
        }
      ]
    },
    {
      "cell_type": "markdown",
      "metadata": {
        "id": "qpRxhiqIM8XL"
      },
      "source": [
        "## Nice results from keras tuner !!! 91%"
      ]
    },
    {
      "cell_type": "code",
      "metadata": {
        "id": "3fe7leg1M5z4"
      },
      "source": [
        ""
      ],
      "execution_count": null,
      "outputs": []
    }
  ]
}