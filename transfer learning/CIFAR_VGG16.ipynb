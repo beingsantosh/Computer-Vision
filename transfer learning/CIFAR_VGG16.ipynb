{
  "nbformat": 4,
  "nbformat_minor": 0,
  "metadata": {
    "colab": {
      "name": "CIFAR_VGG16.ipynb",
      "provenance": [],
      "authorship_tag": "ABX9TyPlEMsc8VYMeXbHp+zKG3Zq",
      "include_colab_link": true
    },
    "kernelspec": {
      "name": "python3",
      "display_name": "Python 3"
    },
    "accelerator": "GPU"
  },
  "cells": [
    {
      "cell_type": "markdown",
      "metadata": {
        "id": "view-in-github",
        "colab_type": "text"
      },
      "source": [
        "<a href=\"https://colab.research.google.com/github/santoshkumarbvp/Computer-Vision/blob/main/transfer%20learning/CIFAR_VGG16.ipynb\" target=\"_parent\"><img src=\"https://colab.research.google.com/assets/colab-badge.svg\" alt=\"Open In Colab\"/></a>"
      ]
    },
    {
      "cell_type": "code",
      "metadata": {
        "id": "AJCDKKHfR-iP"
      },
      "source": [
        "from glob import glob\r\n",
        "import os\r\n",
        "import matplotlib.pyplot as plt\r\n",
        "from matplotlib.image import imread\r\n",
        "from tensorflow.keras.preprocessing import image\r\n",
        "import numpy as np\r\n",
        "import seaborn as sns\r\n",
        "from tensorflow.keras.preprocessing.image import ImageDataGenerator\r\n",
        "from tensorflow.keras.models import load_model\r\n",
        "from sklearn.metrics import confusion_matrix, classification_report, accuracy_score\r\n",
        "from tensorflow.keras.applications.vgg16 import VGG16\r\n",
        "from tensorflow.keras.models import Model\r\n",
        "import tensorflow\r\n",
        "from tensorflow.keras.models import Sequential\r\n",
        "from tensorflow.keras.layers import Dense, MaxPool2D, Flatten, Conv2D, Dropout\r\n",
        "from tensorflow.keras.utils import to_categorical\r\n",
        "from tensorflow.keras.callbacks import EarlyStopping\r\n",
        "import pandas as pd"
      ],
      "execution_count": 84,
      "outputs": []
    },
    {
      "cell_type": "code",
      "metadata": {
        "colab": {
          "base_uri": "https://localhost:8080/",
          "height": 35
        },
        "id": "wUxvpPEfSirw",
        "outputId": "5094f618-9c88-4a10-9850-822b72272589"
      },
      "source": [
        "tensorflow.test.gpu_device_name()"
      ],
      "execution_count": 7,
      "outputs": [
        {
          "output_type": "execute_result",
          "data": {
            "application/vnd.google.colaboratory.intrinsic+json": {
              "type": "string"
            },
            "text/plain": [
              "'/device:GPU:0'"
            ]
          },
          "metadata": {
            "tags": []
          },
          "execution_count": 7
        }
      ]
    },
    {
      "cell_type": "code",
      "metadata": {
        "id": "G8bQssApSmVk"
      },
      "source": [
        "from tensorflow.keras.datasets import cifar10"
      ],
      "execution_count": 8,
      "outputs": []
    },
    {
      "cell_type": "code",
      "metadata": {
        "colab": {
          "base_uri": "https://localhost:8080/"
        },
        "id": "v_igSgtTS-yt",
        "outputId": "5c03b721-28ec-4a2d-d11d-0eef285e8242"
      },
      "source": [
        "cf = cifar10.load_data()"
      ],
      "execution_count": 13,
      "outputs": [
        {
          "output_type": "stream",
          "text": [
            "Downloading data from https://www.cs.toronto.edu/~kriz/cifar-10-python.tar.gz\n",
            "170500096/170498071 [==============================] - 6s 0us/step\n"
          ],
          "name": "stdout"
        }
      ]
    },
    {
      "cell_type": "code",
      "metadata": {
        "id": "188cOSGITAZE"
      },
      "source": [
        "(x_train, y_train), (x_test, y_test) = cf"
      ],
      "execution_count": 70,
      "outputs": []
    },
    {
      "cell_type": "code",
      "metadata": {
        "colab": {
          "base_uri": "https://localhost:8080/",
          "height": 300
        },
        "id": "D3iOPB_7UOqE",
        "outputId": "667943ef-8875-4f58-cd38-8c73881671b7"
      },
      "source": [
        "plt.imshow(x_test[10]), print(y_test[10])"
      ],
      "execution_count": 38,
      "outputs": [
        {
          "output_type": "stream",
          "text": [
            "[0]\n"
          ],
          "name": "stdout"
        },
        {
          "output_type": "execute_result",
          "data": {
            "text/plain": [
              "(<matplotlib.image.AxesImage at 0x7f68dcda99b0>, None)"
            ]
          },
          "metadata": {
            "tags": []
          },
          "execution_count": 38
        },
        {
          "output_type": "display_data",
          "data": {
            "image/png": "[encoded data removed]",
            "text/plain": [
              "<Figure size 432x288 with 1 Axes>"
            ]
          },
          "metadata": {
            "tags": [],
            "needs_background": "light"
          }
        }
      ]
    },
    {
      "cell_type": "code",
      "metadata": {
        "id": "ubl3_gwgVYom"
      },
      "source": [
        "input_shape=(32,32,3)"
      ],
      "execution_count": 45,
      "outputs": []
    },
    {
      "cell_type": "code",
      "metadata": {
        "id": "_4fj-4DdVuCw"
      },
      "source": [
        "y_train = to_categorical(y_train)\r\n",
        "y_test = to_categorical(y_test)"
      ],
      "execution_count": 71,
      "outputs": []
    },
    {
      "cell_type": "markdown",
      "metadata": {
        "id": "7-LAK-H3U7sW"
      },
      "source": [
        "# Simple ANN"
      ]
    },
    {
      "cell_type": "code",
      "metadata": {
        "id": "Fth9gX5TURYn"
      },
      "source": [
        "model_ann = Sequential()\r\n",
        "model_ann.add(Flatten(input_shape=input_shape))\r\n",
        "model_ann.add(Dense(units=128, activation='relu'))\r\n",
        "model_ann.add(Dense(units=254, activation='relu'))\r\n",
        "model_ann.add(Dense(units=254, activation='relu'))\r\n",
        "model_ann.add(Dense(units=10, activation='softmax'))\r\n",
        "\r\n",
        "\r\n",
        "model_ann.compile(loss='categorical_crossentropy',optimizer = 'adam',metrics=['accuracy'])\r\n",
        "\r\n"
      ],
      "execution_count": 57,
      "outputs": []
    },
    {
      "cell_type": "code",
      "metadata": {
        "colab": {
          "base_uri": "https://localhost:8080/"
        },
        "id": "TUNhmkMgW6ak",
        "outputId": "ce41e6fc-dd8e-4ab4-ee13-d0ce7a2461e9"
      },
      "source": [
        "model_ann.summary()"
      ],
      "execution_count": 50,
      "outputs": [
        {
          "output_type": "stream",
          "text": [
            "Model: \"sequential_2\"\n",
            "_________________________________________________________________\n",
            "Layer (type)                 Output Shape              Param #   \n",
            "=================================================================\n",
            "flatten_1 (Flatten)          (None, 3072)              0         \n",
            "_________________________________________________________________\n",
            "dense_4 (Dense)              (None, 128)               393344    \n",
            "_________________________________________________________________\n",
            "dense_5 (Dense)              (None, 254)               32766     \n",
            "_________________________________________________________________\n",
            "dense_6 (Dense)              (None, 254)               64770     \n",
            "_________________________________________________________________\n",
            "dense_7 (Dense)              (None, 10)                2550      \n",
            "=================================================================\n",
            "Total params: 493,430\n",
            "Trainable params: 493,430\n",
            "Non-trainable params: 0\n",
            "_________________________________________________________________\n"
          ],
          "name": "stdout"
        }
      ]
    },
    {
      "cell_type": "code",
      "metadata": {
        "colab": {
          "base_uri": "https://localhost:8080/"
        },
        "id": "i3t39n37XNnp",
        "outputId": "e3be9050-7e48-4693-f6ed-26b72e8e7e6c"
      },
      "source": [
        "model_ann.fit(x_train,y_train,validation_data=(x_test,y_test), epochs= 20)"
      ],
      "execution_count": 59,
      "outputs": [
        {
          "output_type": "stream",
          "text": [
            "Epoch 1/20\n",
            "1563/1563 [==============================] - 4s 3ms/step - loss: 2.3031 - accuracy: 0.0992 - val_loss: 2.3028 - val_accuracy: 0.1001\n",
            "Epoch 2/20\n",
            "1563/1563 [==============================] - 4s 3ms/step - loss: 2.3050 - accuracy: 0.0997 - val_loss: 2.3026 - val_accuracy: 0.1001\n",
            "Epoch 3/20\n",
            "1563/1563 [==============================] - 4s 3ms/step - loss: 2.3028 - accuracy: 0.0982 - val_loss: 2.3026 - val_accuracy: 0.1001\n",
            "Epoch 4/20\n",
            "1563/1563 [==============================] - 4s 3ms/step - loss: 2.3028 - accuracy: 0.1003 - val_loss: 2.3026 - val_accuracy: 0.1000\n",
            "Epoch 5/20\n",
            "1563/1563 [==============================] - 4s 3ms/step - loss: 2.3028 - accuracy: 0.0981 - val_loss: 2.3026 - val_accuracy: 0.0999\n",
            "Epoch 6/20\n",
            "1563/1563 [==============================] - 4s 3ms/step - loss: 2.3028 - accuracy: 0.0994 - val_loss: 2.3025 - val_accuracy: 0.1000\n",
            "Epoch 7/20\n",
            "1563/1563 [==============================] - 4s 3ms/step - loss: 2.3028 - accuracy: 0.1017 - val_loss: 2.3026 - val_accuracy: 0.1000\n",
            "Epoch 8/20\n",
            "1563/1563 [==============================] - 4s 3ms/step - loss: 2.3028 - accuracy: 0.0997 - val_loss: 2.3025 - val_accuracy: 0.1000\n",
            "Epoch 9/20\n",
            "1563/1563 [==============================] - 4s 3ms/step - loss: 2.3026 - accuracy: 0.1011 - val_loss: 2.3026 - val_accuracy: 0.1000\n",
            "Epoch 10/20\n",
            "1563/1563 [==============================] - 4s 3ms/step - loss: 2.3028 - accuracy: 0.0988 - val_loss: 2.3025 - val_accuracy: 0.1000\n",
            "Epoch 11/20\n",
            "1563/1563 [==============================] - 4s 3ms/step - loss: 2.3027 - accuracy: 0.0990 - val_loss: 2.3025 - val_accuracy: 0.1000\n",
            "Epoch 12/20\n",
            "1563/1563 [==============================] - 4s 3ms/step - loss: 2.3027 - accuracy: 0.0986 - val_loss: 2.3025 - val_accuracy: 0.1000\n",
            "Epoch 13/20\n",
            "1563/1563 [==============================] - 4s 3ms/step - loss: 2.3027 - accuracy: 0.0992 - val_loss: 2.3025 - val_accuracy: 0.1000\n",
            "Epoch 14/20\n",
            "1563/1563 [==============================] - 4s 3ms/step - loss: 2.3350 - accuracy: 0.1004 - val_loss: 2.3027 - val_accuracy: 0.1000\n",
            "Epoch 15/20\n",
            "1563/1563 [==============================] - 4s 3ms/step - loss: 2.3028 - accuracy: 0.0984 - val_loss: 2.3027 - val_accuracy: 0.1000\n",
            "Epoch 16/20\n",
            "1563/1563 [==============================] - 4s 3ms/step - loss: 2.3028 - accuracy: 0.0984 - val_loss: 2.3027 - val_accuracy: 0.1000\n",
            "Epoch 17/20\n",
            "1563/1563 [==============================] - 4s 3ms/step - loss: 2.3028 - accuracy: 0.0967 - val_loss: 2.3026 - val_accuracy: 0.1000\n",
            "Epoch 18/20\n",
            "1563/1563 [==============================] - 4s 3ms/step - loss: 2.3028 - accuracy: 0.0980 - val_loss: 2.3026 - val_accuracy: 0.1000\n",
            "Epoch 19/20\n",
            "1563/1563 [==============================] - 4s 3ms/step - loss: 2.3028 - accuracy: 0.0981 - val_loss: 2.3027 - val_accuracy: 0.1000\n",
            "Epoch 20/20\n",
            "1563/1563 [==============================] - 4s 3ms/step - loss: 2.3028 - accuracy: 0.0987 - val_loss: 2.3026 - val_accuracy: 0.1000\n"
          ],
          "name": "stdout"
        },
        {
          "output_type": "execute_result",
          "data": {
            "text/plain": [
              "<tensorflow.python.keras.callbacks.History at 0x7f68d6457b38>"
            ]
          },
          "metadata": {
            "tags": []
          },
          "execution_count": 59
        }
      ]
    },
    {
      "cell_type": "markdown",
      "metadata": {
        "id": "zDLA00_JcM0b"
      },
      "source": [
        "# It is expected that, in ANN model accuracy would be low. it is just 10%"
      ]
    },
    {
      "cell_type": "markdown",
      "metadata": {
        "id": "TF9DAtbHYdHl"
      },
      "source": [
        "# Simple CNN"
      ]
    },
    {
      "cell_type": "code",
      "metadata": {
        "id": "IGLlKoCrXkNP"
      },
      "source": [
        "model_cnn = Sequential()\r\n",
        "model_cnn.add(Conv2D(input_shape=input_shape,filters=32, kernel_size=(3,3),activation='relu'))\r\n",
        "model_cnn.add(MaxPool2D(pool_size=(2,2)))\r\n",
        "model_cnn.add(Conv2D(kernel_size=(3,3),filters=64,activation='relu'))\r\n",
        "model_cnn.add(MaxPool2D(pool_size=(2,2)))\r\n",
        "model_cnn.add(Conv2D(kernel_size=(3,3),filters=64,activation='relu'))\r\n",
        "model_cnn.add(MaxPool2D(pool_size=(2,2)))\r\n",
        "model_cnn.add(Flatten())\r\n",
        "model_cnn.add(Dense(10,activation='softmax'))\r\n",
        "\r\n",
        "model_cnn.compile(loss='categorical_crossentropy',optimizer = 'adam',metrics=['accuracy'])\r\n"
      ],
      "execution_count": 61,
      "outputs": []
    },
    {
      "cell_type": "code",
      "metadata": {
        "colab": {
          "base_uri": "https://localhost:8080/"
        },
        "id": "_WoNnq1nXn-T",
        "outputId": "03e6a85f-cdc6-4795-b662-3fab042bf360"
      },
      "source": [
        "model_cnn.summary()"
      ],
      "execution_count": 62,
      "outputs": [
        {
          "output_type": "stream",
          "text": [
            "Model: \"sequential_5\"\n",
            "_________________________________________________________________\n",
            "Layer (type)                 Output Shape              Param #   \n",
            "=================================================================\n",
            "conv2d (Conv2D)              (None, 30, 30, 32)        896       \n",
            "_________________________________________________________________\n",
            "max_pooling2d (MaxPooling2D) (None, 15, 15, 32)        0         \n",
            "_________________________________________________________________\n",
            "conv2d_1 (Conv2D)            (None, 13, 13, 64)        18496     \n",
            "_________________________________________________________________\n",
            "max_pooling2d_1 (MaxPooling2 (None, 6, 6, 64)          0         \n",
            "_________________________________________________________________\n",
            "conv2d_2 (Conv2D)            (None, 4, 4, 64)          36928     \n",
            "_________________________________________________________________\n",
            "max_pooling2d_2 (MaxPooling2 (None, 2, 2, 64)          0         \n",
            "_________________________________________________________________\n",
            "flatten_3 (Flatten)          (None, 256)               0         \n",
            "_________________________________________________________________\n",
            "dense_12 (Dense)             (None, 10)                2570      \n",
            "=================================================================\n",
            "Total params: 58,890\n",
            "Trainable params: 58,890\n",
            "Non-trainable params: 0\n",
            "_________________________________________________________________\n"
          ],
          "name": "stdout"
        }
      ]
    },
    {
      "cell_type": "code",
      "metadata": {
        "colab": {
          "base_uri": "https://localhost:8080/"
        },
        "id": "-F70kS7xZyoK",
        "outputId": "a2cd405e-02e9-4053-adad-b9f577c77589"
      },
      "source": [
        "model_cnn.fit(x_train,y_train,validation_data=(x_test,y_test), epochs= 20)"
      ],
      "execution_count": 63,
      "outputs": [
        {
          "output_type": "stream",
          "text": [
            "Epoch 1/20\n",
            "1563/1563 [==============================] - 10s 3ms/step - loss: 3.5133 - accuracy: 0.2479 - val_loss: 1.5231 - val_accuracy: 0.4446\n",
            "Epoch 2/20\n",
            "1563/1563 [==============================] - 5s 3ms/step - loss: 1.5224 - accuracy: 0.4490 - val_loss: 1.4394 - val_accuracy: 0.4904\n",
            "Epoch 3/20\n",
            "1563/1563 [==============================] - 5s 3ms/step - loss: 1.3273 - accuracy: 0.5300 - val_loss: 1.3030 - val_accuracy: 0.5339\n",
            "Epoch 4/20\n",
            "1563/1563 [==============================] - 5s 3ms/step - loss: 1.2227 - accuracy: 0.5735 - val_loss: 1.2581 - val_accuracy: 0.5598\n",
            "Epoch 5/20\n",
            "1563/1563 [==============================] - 5s 3ms/step - loss: 1.1513 - accuracy: 0.5969 - val_loss: 1.1472 - val_accuracy: 0.5960\n",
            "Epoch 6/20\n",
            "1563/1563 [==============================] - 5s 3ms/step - loss: 1.0815 - accuracy: 0.6202 - val_loss: 1.1252 - val_accuracy: 0.6117\n",
            "Epoch 7/20\n",
            "1563/1563 [==============================] - 5s 3ms/step - loss: 1.0337 - accuracy: 0.6404 - val_loss: 1.1495 - val_accuracy: 0.6093\n",
            "Epoch 8/20\n",
            "1563/1563 [==============================] - 5s 3ms/step - loss: 1.0059 - accuracy: 0.6480 - val_loss: 1.1154 - val_accuracy: 0.6218\n",
            "Epoch 9/20\n",
            "1563/1563 [==============================] - 5s 3ms/step - loss: 0.9662 - accuracy: 0.6602 - val_loss: 1.2336 - val_accuracy: 0.5873\n",
            "Epoch 10/20\n",
            "1563/1563 [==============================] - 5s 3ms/step - loss: 0.9500 - accuracy: 0.6713 - val_loss: 1.1469 - val_accuracy: 0.6201\n",
            "Epoch 11/20\n",
            "1563/1563 [==============================] - 5s 3ms/step - loss: 0.9253 - accuracy: 0.6765 - val_loss: 1.0919 - val_accuracy: 0.6437\n",
            "Epoch 12/20\n",
            "1563/1563 [==============================] - 5s 3ms/step - loss: 0.8840 - accuracy: 0.6921 - val_loss: 1.1663 - val_accuracy: 0.6198\n",
            "Epoch 13/20\n",
            "1563/1563 [==============================] - 5s 3ms/step - loss: 0.8634 - accuracy: 0.6947 - val_loss: 1.1344 - val_accuracy: 0.6293\n",
            "Epoch 14/20\n",
            "1563/1563 [==============================] - 5s 3ms/step - loss: 0.8389 - accuracy: 0.7079 - val_loss: 1.1770 - val_accuracy: 0.6281\n",
            "Epoch 15/20\n",
            "1563/1563 [==============================] - 5s 3ms/step - loss: 0.8285 - accuracy: 0.7098 - val_loss: 1.1417 - val_accuracy: 0.6390\n",
            "Epoch 16/20\n",
            "1563/1563 [==============================] - 5s 3ms/step - loss: 0.8159 - accuracy: 0.7173 - val_loss: 1.1416 - val_accuracy: 0.6375\n",
            "Epoch 17/20\n",
            "1563/1563 [==============================] - 5s 3ms/step - loss: 0.8073 - accuracy: 0.7167 - val_loss: 1.1239 - val_accuracy: 0.6449\n",
            "Epoch 18/20\n",
            "1563/1563 [==============================] - 5s 3ms/step - loss: 0.7804 - accuracy: 0.7272 - val_loss: 1.1888 - val_accuracy: 0.6348\n",
            "Epoch 19/20\n",
            "1563/1563 [==============================] - 5s 3ms/step - loss: 0.7653 - accuracy: 0.7297 - val_loss: 1.1463 - val_accuracy: 0.6294\n",
            "Epoch 20/20\n",
            "1563/1563 [==============================] - 5s 3ms/step - loss: 0.7605 - accuracy: 0.7328 - val_loss: 1.1649 - val_accuracy: 0.6501\n"
          ],
          "name": "stdout"
        },
        {
          "output_type": "execute_result",
          "data": {
            "text/plain": [
              "<tensorflow.python.keras.callbacks.History at 0x7f68dcce6278>"
            ]
          },
          "metadata": {
            "tags": []
          },
          "execution_count": 63
        }
      ]
    },
    {
      "cell_type": "markdown",
      "metadata": {
        "id": "y-2upUxecblt"
      },
      "source": [
        "# In CNN, it improved till 73%"
      ]
    },
    {
      "cell_type": "markdown",
      "metadata": {
        "id": "DnhX0zQPahr5"
      },
      "source": [
        "# Lets play around more\r\n",
        "\r\n",
        "\r\n",
        "\r\n",
        "1.   Normalize the data\r\n",
        "2.   Add more parameters\r\n",
        "\r\n"
      ]
    },
    {
      "cell_type": "code",
      "metadata": {
        "colab": {
          "base_uri": "https://localhost:8080/"
        },
        "id": "gHvAskfVatQ3",
        "outputId": "b6a3d5b4-44c0-4705-e9d1-d8b8c1bffda6"
      },
      "source": [
        "x_train[0].max(),x_train[0].min()"
      ],
      "execution_count": 66,
      "outputs": [
        {
          "output_type": "execute_result",
          "data": {
            "text/plain": [
              "(255, 0)"
            ]
          },
          "metadata": {
            "tags": []
          },
          "execution_count": 66
        }
      ]
    },
    {
      "cell_type": "code",
      "metadata": {
        "id": "hT-a5nfxZ5K7"
      },
      "source": [
        "x_train_n = x_train/255\r\n",
        "x_test_n = x_test/255"
      ],
      "execution_count": 72,
      "outputs": []
    },
    {
      "cell_type": "code",
      "metadata": {
        "colab": {
          "base_uri": "https://localhost:8080/"
        },
        "id": "cKfwBOT2a3SS",
        "outputId": "cc76e056-6877-4f0d-f79c-879fad113c04"
      },
      "source": [
        "model_cnn.fit(x_train_n,y_train,validation_data=(x_test_n,y_test), epochs= 20)"
      ],
      "execution_count": 73,
      "outputs": [
        {
          "output_type": "stream",
          "text": [
            "Epoch 1/20\n",
            "1563/1563 [==============================] - 6s 4ms/step - loss: 1.7990 - accuracy: 0.3378 - val_loss: 1.5960 - val_accuracy: 0.4143\n",
            "Epoch 2/20\n",
            "1563/1563 [==============================] - 6s 4ms/step - loss: 1.5057 - accuracy: 0.4529 - val_loss: 1.4355 - val_accuracy: 0.4752\n",
            "Epoch 3/20\n",
            "1563/1563 [==============================] - 6s 4ms/step - loss: 1.3805 - accuracy: 0.5013 - val_loss: 1.3290 - val_accuracy: 0.5162\n",
            "Epoch 4/20\n",
            "1563/1563 [==============================] - 6s 4ms/step - loss: 1.2718 - accuracy: 0.5467 - val_loss: 1.2742 - val_accuracy: 0.5493\n",
            "Epoch 5/20\n",
            "1563/1563 [==============================] - 6s 4ms/step - loss: 1.1793 - accuracy: 0.5816 - val_loss: 1.1633 - val_accuracy: 0.5941\n",
            "Epoch 6/20\n",
            "1563/1563 [==============================] - 6s 4ms/step - loss: 1.1021 - accuracy: 0.6103 - val_loss: 1.1307 - val_accuracy: 0.5956\n",
            "Epoch 7/20\n",
            "1563/1563 [==============================] - 6s 4ms/step - loss: 1.0392 - accuracy: 0.6334 - val_loss: 1.0922 - val_accuracy: 0.6196\n",
            "Epoch 8/20\n",
            "1563/1563 [==============================] - 6s 4ms/step - loss: 0.9843 - accuracy: 0.6562 - val_loss: 1.1127 - val_accuracy: 0.6129\n",
            "Epoch 9/20\n",
            "1563/1563 [==============================] - 6s 4ms/step - loss: 0.9304 - accuracy: 0.6738 - val_loss: 0.9898 - val_accuracy: 0.6522\n",
            "Epoch 10/20\n",
            "1563/1563 [==============================] - 6s 4ms/step - loss: 0.8909 - accuracy: 0.6864 - val_loss: 1.0061 - val_accuracy: 0.6492\n",
            "Epoch 11/20\n",
            "1563/1563 [==============================] - 6s 4ms/step - loss: 0.8511 - accuracy: 0.7021 - val_loss: 0.9776 - val_accuracy: 0.6612\n",
            "Epoch 12/20\n",
            "1563/1563 [==============================] - 6s 4ms/step - loss: 0.8211 - accuracy: 0.7084 - val_loss: 0.9811 - val_accuracy: 0.6639\n",
            "Epoch 13/20\n",
            "1563/1563 [==============================] - 6s 4ms/step - loss: 0.7936 - accuracy: 0.7225 - val_loss: 0.9557 - val_accuracy: 0.6691\n",
            "Epoch 14/20\n",
            "1563/1563 [==============================] - 6s 4ms/step - loss: 0.7634 - accuracy: 0.7322 - val_loss: 0.9430 - val_accuracy: 0.6718\n",
            "Epoch 15/20\n",
            "1563/1563 [==============================] - 6s 4ms/step - loss: 0.7417 - accuracy: 0.7413 - val_loss: 0.9677 - val_accuracy: 0.6732\n",
            "Epoch 16/20\n",
            "1563/1563 [==============================] - 6s 4ms/step - loss: 0.7119 - accuracy: 0.7502 - val_loss: 0.9507 - val_accuracy: 0.6798\n",
            "Epoch 17/20\n",
            "1563/1563 [==============================] - 6s 4ms/step - loss: 0.6937 - accuracy: 0.7558 - val_loss: 0.9432 - val_accuracy: 0.6823\n",
            "Epoch 18/20\n",
            "1563/1563 [==============================] - 6s 4ms/step - loss: 0.6681 - accuracy: 0.7662 - val_loss: 0.9931 - val_accuracy: 0.6742\n",
            "Epoch 19/20\n",
            "1563/1563 [==============================] - 6s 4ms/step - loss: 0.6501 - accuracy: 0.7723 - val_loss: 0.9689 - val_accuracy: 0.6811\n",
            "Epoch 20/20\n",
            "1563/1563 [==============================] - 6s 4ms/step - loss: 0.6302 - accuracy: 0.7791 - val_loss: 0.9451 - val_accuracy: 0.6909\n"
          ],
          "name": "stdout"
        },
        {
          "output_type": "execute_result",
          "data": {
            "text/plain": [
              "<tensorflow.python.keras.callbacks.History at 0x7f68d4aa15f8>"
            ]
          },
          "metadata": {
            "tags": []
          },
          "execution_count": 73
        }
      ]
    },
    {
      "cell_type": "markdown",
      "metadata": {
        "id": "wBkhuYsqcEzH"
      },
      "source": [
        "# Accuracy improved till 77%"
      ]
    },
    {
      "cell_type": "markdown",
      "metadata": {
        "id": "BA6LphhAcoSH"
      },
      "source": [
        "# Adding more parameter"
      ]
    },
    {
      "cell_type": "code",
      "metadata": {
        "id": "ldfS8Vf7a-HT"
      },
      "source": [
        "model_cnn = Sequential()\r\n",
        "model_cnn.add(Conv2D(input_shape=input_shape,filters=64, kernel_size=(3,3),activation='relu'))\r\n",
        "model_cnn.add(MaxPool2D(pool_size=(2,2)))\r\n",
        "model_cnn.add(Conv2D(kernel_size=(3,3),filters=128,activation='relu'))\r\n",
        "model_cnn.add(MaxPool2D(pool_size=(2,2)))\r\n",
        "model_cnn.add(Conv2D(kernel_size=(3,3),filters=128,activation='relu'))\r\n",
        "model_cnn.add(MaxPool2D(pool_size=(2,2)))\r\n",
        "model_cnn.add(Flatten())\r\n",
        "model_cnn.add(Dense(10,activation='softmax'))\r\n",
        "\r\n",
        "model_cnn.compile(loss='categorical_crossentropy',optimizer = 'adam',metrics=['accuracy'])\r\n"
      ],
      "execution_count": 78,
      "outputs": []
    },
    {
      "cell_type": "code",
      "metadata": {
        "colab": {
          "base_uri": "https://localhost:8080/"
        },
        "id": "4tWBpojTdNg2",
        "outputId": "e12e96ca-b236-48ff-a1cb-70022a1e91f4"
      },
      "source": [
        "model_cnn.summary()"
      ],
      "execution_count": 79,
      "outputs": [
        {
          "output_type": "stream",
          "text": [
            "Model: \"sequential_7\"\n",
            "_________________________________________________________________\n",
            "Layer (type)                 Output Shape              Param #   \n",
            "=================================================================\n",
            "conv2d_6 (Conv2D)            (None, 30, 30, 64)        1792      \n",
            "_________________________________________________________________\n",
            "max_pooling2d_6 (MaxPooling2 (None, 15, 15, 64)        0         \n",
            "_________________________________________________________________\n",
            "conv2d_7 (Conv2D)            (None, 13, 13, 128)       73856     \n",
            "_________________________________________________________________\n",
            "max_pooling2d_7 (MaxPooling2 (None, 6, 6, 128)         0         \n",
            "_________________________________________________________________\n",
            "conv2d_8 (Conv2D)            (None, 4, 4, 128)         147584    \n",
            "_________________________________________________________________\n",
            "max_pooling2d_8 (MaxPooling2 (None, 2, 2, 128)         0         \n",
            "_________________________________________________________________\n",
            "flatten_5 (Flatten)          (None, 512)               0         \n",
            "_________________________________________________________________\n",
            "dense_14 (Dense)             (None, 10)                5130      \n",
            "=================================================================\n",
            "Total params: 228,362\n",
            "Trainable params: 228,362\n",
            "Non-trainable params: 0\n",
            "_________________________________________________________________\n"
          ],
          "name": "stdout"
        }
      ]
    },
    {
      "cell_type": "code",
      "metadata": {
        "id": "w9tti8-Dczrm"
      },
      "source": [
        "es = EarlyStopping(monitor='accuracy',patience=3)"
      ],
      "execution_count": 80,
      "outputs": []
    },
    {
      "cell_type": "code",
      "metadata": {
        "colab": {
          "base_uri": "https://localhost:8080/"
        },
        "id": "17VuQ3RQc0n7",
        "outputId": "a0891a78-7a45-4cc7-8b27-e9d64b6f1c7a"
      },
      "source": [
        "model_cnn.fit(x_train_n,y_train,validation_data=(x_test_n,y_test), epochs= 20, callbacks=[es])"
      ],
      "execution_count": 81,
      "outputs": [
        {
          "output_type": "stream",
          "text": [
            "Epoch 1/20\n",
            "1563/1563 [==============================] - 6s 4ms/step - loss: 3.4287 - accuracy: 0.3471 - val_loss: 1.2800 - val_accuracy: 0.5494\n",
            "Epoch 2/20\n",
            "1563/1563 [==============================] - 6s 4ms/step - loss: 1.2668 - accuracy: 0.5526 - val_loss: 1.2775 - val_accuracy: 0.5568\n",
            "Epoch 3/20\n",
            "1563/1563 [==============================] - 6s 4ms/step - loss: 1.1239 - accuracy: 0.6122 - val_loss: 1.3202 - val_accuracy: 0.5556\n",
            "Epoch 4/20\n",
            "1563/1563 [==============================] - 6s 4ms/step - loss: 1.0278 - accuracy: 0.6446 - val_loss: 1.0535 - val_accuracy: 0.6469\n",
            "Epoch 5/20\n",
            "1563/1563 [==============================] - 6s 4ms/step - loss: 0.9480 - accuracy: 0.6751 - val_loss: 1.0511 - val_accuracy: 0.6524\n",
            "Epoch 6/20\n",
            "1563/1563 [==============================] - 6s 4ms/step - loss: 0.8852 - accuracy: 0.6957 - val_loss: 1.0130 - val_accuracy: 0.6737\n",
            "Epoch 7/20\n",
            "1563/1563 [==============================] - 6s 4ms/step - loss: 0.8218 - accuracy: 0.7153 - val_loss: 1.1512 - val_accuracy: 0.6333\n",
            "Epoch 8/20\n",
            "1563/1563 [==============================] - 6s 4ms/step - loss: 0.7834 - accuracy: 0.7306 - val_loss: 1.1414 - val_accuracy: 0.6357\n",
            "Epoch 9/20\n",
            "1563/1563 [==============================] - 6s 4ms/step - loss: 0.7416 - accuracy: 0.7424 - val_loss: 1.1048 - val_accuracy: 0.6420\n",
            "Epoch 10/20\n",
            "1563/1563 [==============================] - 6s 4ms/step - loss: 0.7067 - accuracy: 0.7562 - val_loss: 1.0942 - val_accuracy: 0.6695\n",
            "Epoch 11/20\n",
            "1563/1563 [==============================] - 6s 4ms/step - loss: 0.6542 - accuracy: 0.7724 - val_loss: 1.1170 - val_accuracy: 0.6547\n",
            "Epoch 12/20\n",
            "1563/1563 [==============================] - 6s 4ms/step - loss: 0.6155 - accuracy: 0.7871 - val_loss: 1.1618 - val_accuracy: 0.6552\n",
            "Epoch 13/20\n",
            "1563/1563 [==============================] - 6s 4ms/step - loss: 0.5892 - accuracy: 0.7964 - val_loss: 1.2681 - val_accuracy: 0.6370\n",
            "Epoch 14/20\n",
            "1563/1563 [==============================] - 6s 4ms/step - loss: 0.5723 - accuracy: 0.8046 - val_loss: 1.2508 - val_accuracy: 0.6534\n",
            "Epoch 15/20\n",
            "1563/1563 [==============================] - 6s 4ms/step - loss: 0.5378 - accuracy: 0.8144 - val_loss: 1.3472 - val_accuracy: 0.6320\n",
            "Epoch 16/20\n",
            "1563/1563 [==============================] - 6s 4ms/step - loss: 0.5363 - accuracy: 0.8167 - val_loss: 1.3537 - val_accuracy: 0.6331\n",
            "Epoch 17/20\n",
            "1563/1563 [==============================] - 6s 4ms/step - loss: 0.5026 - accuracy: 0.8260 - val_loss: 1.3320 - val_accuracy: 0.6639\n",
            "Epoch 18/20\n",
            "1563/1563 [==============================] - 6s 4ms/step - loss: 0.4676 - accuracy: 0.8410 - val_loss: 1.3946 - val_accuracy: 0.6531\n",
            "Epoch 19/20\n",
            "1563/1563 [==============================] - 6s 4ms/step - loss: 0.4508 - accuracy: 0.8483 - val_loss: 1.4766 - val_accuracy: 0.6549\n",
            "Epoch 20/20\n",
            "1563/1563 [==============================] - 6s 4ms/step - loss: 0.4346 - accuracy: 0.8530 - val_loss: 1.5406 - val_accuracy: 0.6516\n"
          ],
          "name": "stdout"
        },
        {
          "output_type": "execute_result",
          "data": {
            "text/plain": [
              "<tensorflow.python.keras.callbacks.History at 0x7f68db064470>"
            ]
          },
          "metadata": {
            "tags": []
          },
          "execution_count": 81
        }
      ]
    },
    {
      "cell_type": "code",
      "metadata": {
        "colab": {
          "base_uri": "https://localhost:8080/",
          "height": 282
        },
        "id": "XJuSFLlxdH0t",
        "outputId": "404f2495-4d88-4e98-b2bc-d88a78b04e55"
      },
      "source": [
        "pd.DataFrame(model_cnn.history.history).plot()"
      ],
      "execution_count": 86,
      "outputs": [
        {
          "output_type": "execute_result",
          "data": {
            "text/plain": [
              "<matplotlib.axes._subplots.AxesSubplot at 0x7f68dadde4a8>"
            ]
          },
          "metadata": {
            "tags": []
          },
          "execution_count": 86
        },
        {
          "output_type": "display_data",
          "data": {
            "image/png": "[encoded data removed]",
            "text/plain": [
              "<Figure size 432x288 with 1 Axes>"
            ]
          },
          "metadata": {
            "tags": [],
            "needs_background": "light"
          }
        }
      ]
    },
    {
      "cell_type": "code",
      "metadata": {
        "id": "b7RkH4oAeBen"
      },
      "source": [
        "pred = model_cnn.predict(x_test)"
      ],
      "execution_count": 91,
      "outputs": []
    },
    {
      "cell_type": "code",
      "metadata": {
        "id": "28YexEZ6eawK"
      },
      "source": [
        "pred_i = np.array([np.argmax(i) for i in pred] )"
      ],
      "execution_count": 93,
      "outputs": []
    },
    {
      "cell_type": "code",
      "metadata": {
        "colab": {
          "base_uri": "https://localhost:8080/"
        },
        "id": "-BL4CPSbenA4",
        "outputId": "f353afe3-087c-4fea-96a2-eb149b7c405a"
      },
      "source": [
        "confusion_matrix(np.array([np.argmax(i) for i in y_test] ),pred_i)"
      ],
      "execution_count": 96,
      "outputs": [
        {
          "output_type": "execute_result",
          "data": {
            "text/plain": [
              "array([[747,  14,  48,  22,  28,  10,   7,  11,  87,  26],\n",
              "       [ 38, 808,   3,  17,   5,   5,  11,   1,  26,  86],\n",
              "       [ 84,   9, 532,  98,  80,  70,  60,  38,  15,  14],\n",
              "       [ 31,  12,  60, 549,  60, 151,  62,  38,  20,  17],\n",
              "       [ 37,   5,  78, 133, 550,  50,  53,  72,  15,   7],\n",
              "       [ 18,   4,  56, 239,  40, 549,  33,  45,   7,   9],\n",
              "       [ 12,   6,  52, 113,  46,  27, 708,  22,   9,   5],\n",
              "       [ 30,   5,  37,  99,  79,  71,  13, 642,   6,  18],\n",
              "       [129,  31,  16,  24,  10,   5,  10,   5, 740,  30],\n",
              "       [ 58,  99,  21,  37,  13,  12,  12,  18,  39, 691]])"
            ]
          },
          "metadata": {
            "tags": []
          },
          "execution_count": 96
        }
      ]
    },
    {
      "cell_type": "code",
      "metadata": {
        "colab": {
          "base_uri": "https://localhost:8080/"
        },
        "id": "SzozMMXEe1Jj",
        "outputId": "f09b0969-9da0-4c0e-8abf-5dc9755fa338"
      },
      "source": [
        "print(classification_report(np.array([np.argmax(i) for i in y_test] ),pred_i))"
      ],
      "execution_count": 98,
      "outputs": [
        {
          "output_type": "stream",
          "text": [
            "              precision    recall  f1-score   support\n",
            "\n",
            "           0       0.63      0.75      0.68      1000\n",
            "           1       0.81      0.81      0.81      1000\n",
            "           2       0.59      0.53      0.56      1000\n",
            "           3       0.41      0.55      0.47      1000\n",
            "           4       0.60      0.55      0.58      1000\n",
            "           5       0.58      0.55      0.56      1000\n",
            "           6       0.73      0.71      0.72      1000\n",
            "           7       0.72      0.64      0.68      1000\n",
            "           8       0.77      0.74      0.75      1000\n",
            "           9       0.77      0.69      0.73      1000\n",
            "\n",
            "    accuracy                           0.65     10000\n",
            "   macro avg       0.66      0.65      0.65     10000\n",
            "weighted avg       0.66      0.65      0.65     10000\n",
            "\n"
          ],
          "name": "stdout"
        }
      ]
    },
    {
      "cell_type": "markdown",
      "metadata": {
        "id": "OqVxNuB-fZKD"
      },
      "source": [
        "# Lets implement the VGG16"
      ]
    },
    {
      "cell_type": "code",
      "metadata": {
        "colab": {
          "base_uri": "https://localhost:8080/"
        },
        "id": "00evVBJge2ST",
        "outputId": "ff884c34-9006-4ef3-fd7b-0525b638718c"
      },
      "source": [
        "vgg16 = VGG16(input_shape=input_shape, weights='imagenet', include_top=False)\r\n"
      ],
      "execution_count": 100,
      "outputs": [
        {
          "output_type": "stream",
          "text": [
            "Downloading data from https://storage.googleapis.com/tensorflow/keras-applications/vgg16/vgg16_weights_tf_dim_ordering_tf_kernels_notop.h5\n",
            "58892288/58889256 [==============================] - 1s 0us/step\n"
          ],
          "name": "stdout"
        }
      ]
    },
    {
      "cell_type": "code",
      "metadata": {
        "id": "PT3EFJKufsqX"
      },
      "source": [
        "for layer in vgg16.layers:\r\n",
        "  layer.trainable=False"
      ],
      "execution_count": 101,
      "outputs": []
    },
    {
      "cell_type": "code",
      "metadata": {
        "id": "ghtdCfS0f2Wm"
      },
      "source": [
        "f_layer = Flatten()(vgg16.output)\r\n",
        "out_layer = Dense(10,activation='softmax')(f_layer)\r\n",
        "\r\n",
        "model_vgg = Model(inputs=vgg16.input, outputs = out_layer)"
      ],
      "execution_count": 102,
      "outputs": []
    },
    {
      "cell_type": "code",
      "metadata": {
        "colab": {
          "base_uri": "https://localhost:8080/"
        },
        "id": "ui-9h1eNf9-S",
        "outputId": "18cad66c-dad7-4aab-ee24-de463a494d9f"
      },
      "source": [
        "model_vgg.summary()"
      ],
      "execution_count": 105,
      "outputs": [
        {
          "output_type": "stream",
          "text": [
            "Model: \"model\"\n",
            "_________________________________________________________________\n",
            "Layer (type)                 Output Shape              Param #   \n",
            "=================================================================\n",
            "input_1 (InputLayer)         [(None, 32, 32, 3)]       0         \n",
            "_________________________________________________________________\n",
            "block1_conv1 (Conv2D)        (None, 32, 32, 64)        1792      \n",
            "_________________________________________________________________\n",
            "block1_conv2 (Conv2D)        (None, 32, 32, 64)        36928     \n",
            "_________________________________________________________________\n",
            "block1_pool (MaxPooling2D)   (None, 16, 16, 64)        0         \n",
            "_________________________________________________________________\n",
            "block2_conv1 (Conv2D)        (None, 16, 16, 128)       73856     \n",
            "_________________________________________________________________\n",
            "block2_conv2 (Conv2D)        (None, 16, 16, 128)       147584    \n",
            "_________________________________________________________________\n",
            "block2_pool (MaxPooling2D)   (None, 8, 8, 128)         0         \n",
            "_________________________________________________________________\n",
            "block3_conv1 (Conv2D)        (None, 8, 8, 256)         295168    \n",
            "_________________________________________________________________\n",
            "block3_conv2 (Conv2D)        (None, 8, 8, 256)         590080    \n",
            "_________________________________________________________________\n",
            "block3_conv3 (Conv2D)        (None, 8, 8, 256)         590080    \n",
            "_________________________________________________________________\n",
            "block3_pool (MaxPooling2D)   (None, 4, 4, 256)         0         \n",
            "_________________________________________________________________\n",
            "block4_conv1 (Conv2D)        (None, 4, 4, 512)         1180160   \n",
            "_________________________________________________________________\n",
            "block4_conv2 (Conv2D)        (None, 4, 4, 512)         2359808   \n",
            "_________________________________________________________________\n",
            "block4_conv3 (Conv2D)        (None, 4, 4, 512)         2359808   \n",
            "_________________________________________________________________\n",
            "block4_pool (MaxPooling2D)   (None, 2, 2, 512)         0         \n",
            "_________________________________________________________________\n",
            "block5_conv1 (Conv2D)        (None, 2, 2, 512)         2359808   \n",
            "_________________________________________________________________\n",
            "block5_conv2 (Conv2D)        (None, 2, 2, 512)         2359808   \n",
            "_________________________________________________________________\n",
            "block5_conv3 (Conv2D)        (None, 2, 2, 512)         2359808   \n",
            "_________________________________________________________________\n",
            "block5_pool (MaxPooling2D)   (None, 1, 1, 512)         0         \n",
            "_________________________________________________________________\n",
            "flatten_6 (Flatten)          (None, 512)               0         \n",
            "_________________________________________________________________\n",
            "dense_15 (Dense)             (None, 10)                5130      \n",
            "=================================================================\n",
            "Total params: 14,719,818\n",
            "Trainable params: 5,130\n",
            "Non-trainable params: 14,714,688\n",
            "_________________________________________________________________\n"
          ],
          "name": "stdout"
        }
      ]
    },
    {
      "cell_type": "code",
      "metadata": {
        "id": "axlUQpeif_rW"
      },
      "source": [
        "model_vgg.compile(loss = 'categorical_crossentropy',optimizer = 'adam', metrics=['accuracy'])"
      ],
      "execution_count": 106,
      "outputs": []
    },
    {
      "cell_type": "code",
      "metadata": {
        "id": "o7l1IVDkgJnz"
      },
      "source": [
        "es_vgg = EarlyStopping(monitor='accuracy',patience=2)\r\n"
      ],
      "execution_count": 107,
      "outputs": []
    },
    {
      "cell_type": "code",
      "metadata": {
        "colab": {
          "base_uri": "https://localhost:8080/"
        },
        "id": "yzm1qgY8gOeT",
        "outputId": "1f02290b-290f-48b6-fe0e-25196142c939"
      },
      "source": [
        "result_vgg = model_vgg.fit(x_train_n,y_train,validation_data=(x_test_n,y_test), epochs= 20, callbacks=[es])"
      ],
      "execution_count": 108,
      "outputs": [
        {
          "output_type": "stream",
          "text": [
            "Epoch 1/20\n",
            "1563/1563 [==============================] - 14s 8ms/step - loss: 1.7296 - accuracy: 0.4069 - val_loss: 1.3772 - val_accuracy: 0.5296\n",
            "Epoch 2/20\n",
            "1563/1563 [==============================] - 13s 8ms/step - loss: 1.3278 - accuracy: 0.5495 - val_loss: 1.3030 - val_accuracy: 0.5506\n",
            "Epoch 3/20\n",
            "1563/1563 [==============================] - 13s 8ms/step - loss: 1.2548 - accuracy: 0.5712 - val_loss: 1.2649 - val_accuracy: 0.5642\n",
            "Epoch 4/20\n",
            "1563/1563 [==============================] - 13s 8ms/step - loss: 1.2239 - accuracy: 0.5812 - val_loss: 1.2429 - val_accuracy: 0.5696\n",
            "Epoch 5/20\n",
            "1563/1563 [==============================] - 13s 8ms/step - loss: 1.1977 - accuracy: 0.5889 - val_loss: 1.2266 - val_accuracy: 0.5753\n",
            "Epoch 6/20\n",
            "1563/1563 [==============================] - 13s 8ms/step - loss: 1.1840 - accuracy: 0.5935 - val_loss: 1.2186 - val_accuracy: 0.5778\n",
            "Epoch 7/20\n",
            "1563/1563 [==============================] - 13s 8ms/step - loss: 1.1695 - accuracy: 0.5986 - val_loss: 1.2197 - val_accuracy: 0.5748\n",
            "Epoch 8/20\n",
            "1563/1563 [==============================] - 13s 8ms/step - loss: 1.1515 - accuracy: 0.6058 - val_loss: 1.2040 - val_accuracy: 0.5828\n",
            "Epoch 9/20\n",
            "1563/1563 [==============================] - 13s 8ms/step - loss: 1.1561 - accuracy: 0.6019 - val_loss: 1.2019 - val_accuracy: 0.5830\n",
            "Epoch 10/20\n",
            "1563/1563 [==============================] - 13s 8ms/step - loss: 1.1385 - accuracy: 0.6076 - val_loss: 1.1974 - val_accuracy: 0.5855\n",
            "Epoch 11/20\n",
            "1563/1563 [==============================] - 13s 8ms/step - loss: 1.1342 - accuracy: 0.6084 - val_loss: 1.1962 - val_accuracy: 0.5844\n",
            "Epoch 12/20\n",
            "1563/1563 [==============================] - 13s 8ms/step - loss: 1.1330 - accuracy: 0.6071 - val_loss: 1.1896 - val_accuracy: 0.5858\n",
            "Epoch 13/20\n",
            "1563/1563 [==============================] - 13s 8ms/step - loss: 1.1184 - accuracy: 0.6128 - val_loss: 1.1928 - val_accuracy: 0.5856\n",
            "Epoch 14/20\n",
            "1563/1563 [==============================] - 13s 8ms/step - loss: 1.1287 - accuracy: 0.6123 - val_loss: 1.1989 - val_accuracy: 0.5794\n",
            "Epoch 15/20\n",
            "1563/1563 [==============================] - 13s 8ms/step - loss: 1.1205 - accuracy: 0.6148 - val_loss: 1.1937 - val_accuracy: 0.5831\n",
            "Epoch 16/20\n",
            "1563/1563 [==============================] - 13s 8ms/step - loss: 1.1247 - accuracy: 0.6139 - val_loss: 1.1965 - val_accuracy: 0.5879\n",
            "Epoch 17/20\n",
            "1563/1563 [==============================] - 13s 8ms/step - loss: 1.1169 - accuracy: 0.6155 - val_loss: 1.1908 - val_accuracy: 0.5815\n",
            "Epoch 18/20\n",
            "1563/1563 [==============================] - 13s 8ms/step - loss: 1.1166 - accuracy: 0.6155 - val_loss: 1.1858 - val_accuracy: 0.5868\n",
            "Epoch 19/20\n",
            "1563/1563 [==============================] - 13s 8ms/step - loss: 1.1172 - accuracy: 0.6119 - val_loss: 1.1954 - val_accuracy: 0.5831\n",
            "Epoch 20/20\n",
            "1563/1563 [==============================] - 13s 8ms/step - loss: 1.1206 - accuracy: 0.6116 - val_loss: 1.1867 - val_accuracy: 0.5851\n"
          ],
          "name": "stdout"
        }
      ]
    },
    {
      "cell_type": "code",
      "metadata": {
        "colab": {
          "base_uri": "https://localhost:8080/",
          "height": 282
        },
        "id": "oxj293D7gu7-",
        "outputId": "cb7392d6-0578-4afa-b389-9364f206e67c"
      },
      "source": [
        "pd.DataFrame(model_vgg.history.history).plot()"
      ],
      "execution_count": 109,
      "outputs": [
        {
          "output_type": "execute_result",
          "data": {
            "text/plain": [
              "<matplotlib.axes._subplots.AxesSubplot at 0x7f68db1e8748>"
            ]
          },
          "metadata": {
            "tags": []
          },
          "execution_count": 109
        },
        {
          "output_type": "display_data",
          "data": {
            "image/png": "[encoded data removed]",
            "text/plain": [
              "<Figure size 432x288 with 1 Axes>"
            ]
          },
          "metadata": {
            "tags": [],
            "needs_background": "light"
          }
        }
      ]
    },
    {
      "cell_type": "markdown",
      "metadata": {
        "id": "n5AsbZ3bjVnL"
      },
      "source": [
        "#VGG19"
      ]
    },
    {
      "cell_type": "code",
      "metadata": {
        "id": "J6L7vI9EjLhh"
      },
      "source": [
        "from tensorflow.keras.applications import Xception, VGG19"
      ],
      "execution_count": 112,
      "outputs": []
    },
    {
      "cell_type": "code",
      "metadata": {
        "colab": {
          "base_uri": "https://localhost:8080/"
        },
        "id": "9dPUfZh3jcuz",
        "outputId": "b354d089-3142-465c-92a5-55d9f54ba98a"
      },
      "source": [
        "vgg19 = VGG19(input_shape=input_shape, weights='imagenet', include_top=False)\r\n"
      ],
      "execution_count": 113,
      "outputs": [
        {
          "output_type": "stream",
          "text": [
            "Downloading data from https://storage.googleapis.com/tensorflow/keras-applications/vgg19/vgg19_weights_tf_dim_ordering_tf_kernels_notop.h5\n",
            "80142336/80134624 [==============================] - 0s 0us/step\n"
          ],
          "name": "stdout"
        }
      ]
    },
    {
      "cell_type": "code",
      "metadata": {
        "id": "QgH0Jr0ejicY"
      },
      "source": [
        "for layer in vgg19.layers:\r\n",
        "  layer.trainable=False"
      ],
      "execution_count": 114,
      "outputs": []
    },
    {
      "cell_type": "code",
      "metadata": {
        "id": "2cZgy92Gj6qx"
      },
      "source": [
        "f_layer = Flatten()(vgg19.output)\r\n",
        "out_layer = Dense(10,activation='softmax')(f_layer)\r\n",
        "\r\n",
        "model_vgg19 = Model(inputs=vgg19.input, outputs = out_layer)"
      ],
      "execution_count": 115,
      "outputs": []
    },
    {
      "cell_type": "code",
      "metadata": {
        "colab": {
          "base_uri": "https://localhost:8080/"
        },
        "id": "lSC62S1ekGgi",
        "outputId": "3e3722a7-5d4d-4e10-8359-6b223919f971"
      },
      "source": [
        "model_vgg19.summary()"
      ],
      "execution_count": 116,
      "outputs": [
        {
          "output_type": "stream",
          "text": [
            "Model: \"model_1\"\n",
            "_________________________________________________________________\n",
            "Layer (type)                 Output Shape              Param #   \n",
            "=================================================================\n",
            "input_2 (InputLayer)         [(None, 32, 32, 3)]       0         \n",
            "_________________________________________________________________\n",
            "block1_conv1 (Conv2D)        (None, 32, 32, 64)        1792      \n",
            "_________________________________________________________________\n",
            "block1_conv2 (Conv2D)        (None, 32, 32, 64)        36928     \n",
            "_________________________________________________________________\n",
            "block1_pool (MaxPooling2D)   (None, 16, 16, 64)        0         \n",
            "_________________________________________________________________\n",
            "block2_conv1 (Conv2D)        (None, 16, 16, 128)       73856     \n",
            "_________________________________________________________________\n",
            "block2_conv2 (Conv2D)        (None, 16, 16, 128)       147584    \n",
            "_________________________________________________________________\n",
            "block2_pool (MaxPooling2D)   (None, 8, 8, 128)         0         \n",
            "_________________________________________________________________\n",
            "block3_conv1 (Conv2D)        (None, 8, 8, 256)         295168    \n",
            "_________________________________________________________________\n",
            "block3_conv2 (Conv2D)        (None, 8, 8, 256)         590080    \n",
            "_________________________________________________________________\n",
            "block3_conv3 (Conv2D)        (None, 8, 8, 256)         590080    \n",
            "_________________________________________________________________\n",
            "block3_conv4 (Conv2D)        (None, 8, 8, 256)         590080    \n",
            "_________________________________________________________________\n",
            "block3_pool (MaxPooling2D)   (None, 4, 4, 256)         0         \n",
            "_________________________________________________________________\n",
            "block4_conv1 (Conv2D)        (None, 4, 4, 512)         1180160   \n",
            "_________________________________________________________________\n",
            "block4_conv2 (Conv2D)        (None, 4, 4, 512)         2359808   \n",
            "_________________________________________________________________\n",
            "block4_conv3 (Conv2D)        (None, 4, 4, 512)         2359808   \n",
            "_________________________________________________________________\n",
            "block4_conv4 (Conv2D)        (None, 4, 4, 512)         2359808   \n",
            "_________________________________________________________________\n",
            "block4_pool (MaxPooling2D)   (None, 2, 2, 512)         0         \n",
            "_________________________________________________________________\n",
            "block5_conv1 (Conv2D)        (None, 2, 2, 512)         2359808   \n",
            "_________________________________________________________________\n",
            "block5_conv2 (Conv2D)        (None, 2, 2, 512)         2359808   \n",
            "_________________________________________________________________\n",
            "block5_conv3 (Conv2D)        (None, 2, 2, 512)         2359808   \n",
            "_________________________________________________________________\n",
            "block5_conv4 (Conv2D)        (None, 2, 2, 512)         2359808   \n",
            "_________________________________________________________________\n",
            "block5_pool (MaxPooling2D)   (None, 1, 1, 512)         0         \n",
            "_________________________________________________________________\n",
            "flatten_7 (Flatten)          (None, 512)               0         \n",
            "_________________________________________________________________\n",
            "dense_16 (Dense)             (None, 10)                5130      \n",
            "=================================================================\n",
            "Total params: 20,029,514\n",
            "Trainable params: 5,130\n",
            "Non-trainable params: 20,024,384\n",
            "_________________________________________________________________\n"
          ],
          "name": "stdout"
        }
      ]
    },
    {
      "cell_type": "code",
      "metadata": {
        "id": "Diy1i0ArkKV_"
      },
      "source": [
        "model_vgg19.compile(loss = 'categorical_crossentropy',optimizer = 'adam', metrics=['accuracy'])"
      ],
      "execution_count": 117,
      "outputs": []
    },
    {
      "cell_type": "code",
      "metadata": {
        "id": "mCozA6M8kStX"
      },
      "source": [
        "es_vgg19 = EarlyStopping(monitor='accuracy',patience=7)\r\n"
      ],
      "execution_count": 120,
      "outputs": []
    },
    {
      "cell_type": "code",
      "metadata": {
        "colab": {
          "base_uri": "https://localhost:8080/"
        },
        "id": "Y5MX7JFYkWTE",
        "outputId": "a2a0725b-55dc-4e0a-a9e7-b60319c6140a"
      },
      "source": [
        "result_vgg19 = model_vgg19.fit(x_train_n,y_train,validation_data=(x_test_n,y_test), epochs= 50, callbacks=[es])"
      ],
      "execution_count": 121,
      "outputs": [
        {
          "output_type": "stream",
          "text": [
            "Epoch 1/50\n",
            "1563/1563 [==============================] - 16s 10ms/step - loss: 1.1424 - accuracy: 0.6016 - val_loss: 1.2116 - val_accuracy: 0.5807\n",
            "Epoch 2/50\n",
            "1563/1563 [==============================] - 15s 10ms/step - loss: 1.1405 - accuracy: 0.6021 - val_loss: 1.2115 - val_accuracy: 0.5811\n",
            "Epoch 3/50\n",
            "1563/1563 [==============================] - 15s 10ms/step - loss: 1.1397 - accuracy: 0.6019 - val_loss: 1.2075 - val_accuracy: 0.5829\n",
            "Epoch 4/50\n",
            "1563/1563 [==============================] - 15s 10ms/step - loss: 1.1386 - accuracy: 0.6022 - val_loss: 1.2211 - val_accuracy: 0.5768\n",
            "Epoch 5/50\n",
            "1563/1563 [==============================] - 16s 10ms/step - loss: 1.1374 - accuracy: 0.6041 - val_loss: 1.2081 - val_accuracy: 0.5816\n",
            "Epoch 6/50\n",
            "1563/1563 [==============================] - 16s 10ms/step - loss: 1.1372 - accuracy: 0.6035 - val_loss: 1.2146 - val_accuracy: 0.5803\n",
            "Epoch 7/50\n",
            "1563/1563 [==============================] - 16s 10ms/step - loss: 1.1364 - accuracy: 0.6030 - val_loss: 1.2118 - val_accuracy: 0.5787\n",
            "Epoch 8/50\n",
            "1563/1563 [==============================] - 15s 10ms/step - loss: 1.1351 - accuracy: 0.6048 - val_loss: 1.2107 - val_accuracy: 0.5798\n",
            "Epoch 9/50\n",
            "1563/1563 [==============================] - 16s 10ms/step - loss: 1.1350 - accuracy: 0.6036 - val_loss: 1.2145 - val_accuracy: 0.5765\n",
            "Epoch 10/50\n",
            "1563/1563 [==============================] - 15s 10ms/step - loss: 1.1349 - accuracy: 0.6026 - val_loss: 1.2105 - val_accuracy: 0.5794\n",
            "Epoch 11/50\n",
            "1563/1563 [==============================] - 15s 10ms/step - loss: 1.1337 - accuracy: 0.6042 - val_loss: 1.2126 - val_accuracy: 0.5793\n"
          ],
          "name": "stdout"
        }
      ]
    },
    {
      "cell_type": "code",
      "metadata": {
        "id": "lkVKHfNikcYo"
      },
      "source": [
        ""
      ],
      "execution_count": null,
      "outputs": []
    }
  ]
}