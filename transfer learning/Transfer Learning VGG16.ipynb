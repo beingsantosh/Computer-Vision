{
 "cells": [
  {
   "cell_type": "markdown",
   "metadata": {},
   "source": [
    "## Transfer Learning VGG 16 and VGG 19 using Keras"
   ]
  },
  {
   "cell_type": "markdown",
   "metadata": {},
   "source": [
    "Please download the dataset from the below url"
   ]
  },
  {
   "cell_type": "code",
   "execution_count": 1,
   "metadata": {},
   "outputs": [
    {
     "name": "stdout",
     "output_type": "stream",
     "text": [
      "Default GPU Device:/device:GPU:0\n"
     ]
    }
   ],
   "source": [
    "import tensorflow as tf \n",
    "\n",
    "if tf.test.gpu_device_name(): \n",
    "    \n",
    "\n",
    "    print('Default GPU Device:{}'.format(tf.test.gpu_device_name()))\n",
    "\n",
    "else:\n",
    "\n",
    "    print(\"Please install GPU version of TF\")"
   ]
  },
  {
   "cell_type": "code",
   "execution_count": 19,
   "metadata": {},
   "outputs": [
    {
     "name": "stdout",
     "output_type": "stream",
     "text": [
      "Mon Jan  4 17:39:56 2021       \n",
      "+-----------------------------------------------------------------------------+\n",
      "| NVIDIA-SMI 460.89       Driver Version: 460.89       CUDA Version: 11.2     |\n",
      "|-------------------------------+----------------------+----------------------+\n",
      "| GPU  Name            TCC/WDDM | Bus-Id        Disp.A | Volatile Uncorr. ECC |\n",
      "| Fan  Temp  Perf  Pwr:Usage/Cap|         Memory-Usage | GPU-Util  Compute M. |\n",
      "|                               |                      |               MIG M. |\n",
      "|===============================+======================+======================|\n",
      "|   0  GeForce MX230      WDDM  | 00000000:01:00.0 Off |                  N/A |\n",
      "| N/A   37C    P8    N/A /  N/A |     63MiB /  2048MiB |      0%      Default |\n",
      "|                               |                      |                  N/A |\n",
      "+-------------------------------+----------------------+----------------------+\n",
      "                                                                               \n",
      "+-----------------------------------------------------------------------------+\n",
      "| Processes:                                                                  |\n",
      "|  GPU   GI   CI        PID   Type   Process name                  GPU Memory |\n",
      "|        ID   ID                                                   Usage      |\n",
      "|=============================================================================|\n",
      "|    0   N/A  N/A      9976      C   ...\\envs\\test_env\\python.exe    N/A      |\n",
      "+-----------------------------------------------------------------------------+\n"
     ]
    }
   ],
   "source": [
    "!nvidia-smi"
   ]
  },
  {
   "cell_type": "code",
   "execution_count": 3,
   "metadata": {},
   "outputs": [
    {
     "data": {
      "text/plain": [
       "'/device:GPU:0'"
      ]
     },
     "execution_count": 3,
     "metadata": {},
     "output_type": "execute_result"
    }
   ],
   "source": [
    "tf.test.gpu_device_name()"
   ]
  },
  {
   "cell_type": "code",
   "execution_count": 1,
   "metadata": {},
   "outputs": [],
   "source": [
    "# import the libraries as shown below\n",
    "\n",
    "from tensorflow.keras.layers import Input, Lambda, Dense, Flatten\n",
    "from tensorflow.keras.models import Model\n",
    "from tensorflow.keras.applications.vgg16 import VGG16\n",
    "from tensorflow.keras.applications.vgg16 import preprocess_input\n",
    "from tensorflow.keras.preprocessing import image\n",
    "from tensorflow.keras.preprocessing.image import ImageDataGenerator,load_img\n",
    "from tensorflow.keras.models import Sequential\n",
    "import numpy as np\n",
    "from glob import glob\n"
   ]
  },
  {
   "cell_type": "code",
   "execution_count": 2,
   "metadata": {},
   "outputs": [],
   "source": [
    "# re-size all the images to this\n",
    "IMAGE_SIZE = [224, 224]\n",
    "\n",
    "train_path = 'Data/train'\n",
    "valid_path = 'Data/test'\n"
   ]
  },
  {
   "cell_type": "code",
   "execution_count": 6,
   "metadata": {},
   "outputs": [
    {
     "name": "stdout",
     "output_type": "stream",
     "text": [
      "Downloading data from https://storage.googleapis.com/tensorflow/keras-applications/vgg16/vgg16_weights_tf_dim_ordering_tf_kernels_notop.h5\n",
      "58892288/58889256 [==============================] - 33s 1us/step\n"
     ]
    }
   ],
   "source": [
    "# Import the Vgg 16 library as shown below and add preprocessing layer to the front of VGG\n",
    "# Here we will be using imagenet weights\n",
    "\n",
    "vgg16 = VGG16(input_shape=IMAGE_SIZE + [3], weights='imagenet', include_top=False)\n",
    "\n",
    "\n"
   ]
  },
  {
   "cell_type": "code",
   "execution_count": 7,
   "metadata": {},
   "outputs": [],
   "source": [
    "# don't train existing weights\n",
    "for layer in vgg16.layers:\n",
    "    layer.trainable = False"
   ]
  },
  {
   "cell_type": "code",
   "execution_count": 8,
   "metadata": {},
   "outputs": [],
   "source": [
    "  # useful for getting number of output classes\n",
    "folders = glob('Data/train/*')"
   ]
  },
  {
   "cell_type": "code",
   "execution_count": 9,
   "metadata": {},
   "outputs": [],
   "source": [
    "# our layers - you can add more if you want\n",
    "x = Flatten()(vgg16.output)"
   ]
  },
  {
   "cell_type": "code",
   "execution_count": 10,
   "metadata": {},
   "outputs": [],
   "source": [
    "prediction = Dense(len(folders), activation='softmax')(x)\n",
    "\n",
    "# create a model object\n",
    "model = Model(inputs=vgg16.input, outputs=prediction)"
   ]
  },
  {
   "cell_type": "code",
   "execution_count": 11,
   "metadata": {},
   "outputs": [
    {
     "name": "stdout",
     "output_type": "stream",
     "text": [
      "Model: \"model\"\n",
      "_________________________________________________________________\n",
      "Layer (type)                 Output Shape              Param #   \n",
      "=================================================================\n",
      "input_1 (InputLayer)         [(None, 224, 224, 3)]     0         \n",
      "_________________________________________________________________\n",
      "block1_conv1 (Conv2D)        (None, 224, 224, 64)      1792      \n",
      "_________________________________________________________________\n",
      "block1_conv2 (Conv2D)        (None, 224, 224, 64)      36928     \n",
      "_________________________________________________________________\n",
      "block1_pool (MaxPooling2D)   (None, 112, 112, 64)      0         \n",
      "_________________________________________________________________\n",
      "block2_conv1 (Conv2D)        (None, 112, 112, 128)     73856     \n",
      "_________________________________________________________________\n",
      "block2_conv2 (Conv2D)        (None, 112, 112, 128)     147584    \n",
      "_________________________________________________________________\n",
      "block2_pool (MaxPooling2D)   (None, 56, 56, 128)       0         \n",
      "_________________________________________________________________\n",
      "block3_conv1 (Conv2D)        (None, 56, 56, 256)       295168    \n",
      "_________________________________________________________________\n",
      "block3_conv2 (Conv2D)        (None, 56, 56, 256)       590080    \n",
      "_________________________________________________________________\n",
      "block3_conv3 (Conv2D)        (None, 56, 56, 256)       590080    \n",
      "_________________________________________________________________\n",
      "block3_pool (MaxPooling2D)   (None, 28, 28, 256)       0         \n",
      "_________________________________________________________________\n",
      "block4_conv1 (Conv2D)        (None, 28, 28, 512)       1180160   \n",
      "_________________________________________________________________\n",
      "block4_conv2 (Conv2D)        (None, 28, 28, 512)       2359808   \n",
      "_________________________________________________________________\n",
      "block4_conv3 (Conv2D)        (None, 28, 28, 512)       2359808   \n",
      "_________________________________________________________________\n",
      "block4_pool (MaxPooling2D)   (None, 14, 14, 512)       0         \n",
      "_________________________________________________________________\n",
      "block5_conv1 (Conv2D)        (None, 14, 14, 512)       2359808   \n",
      "_________________________________________________________________\n",
      "block5_conv2 (Conv2D)        (None, 14, 14, 512)       2359808   \n",
      "_________________________________________________________________\n",
      "block5_conv3 (Conv2D)        (None, 14, 14, 512)       2359808   \n",
      "_________________________________________________________________\n",
      "block5_pool (MaxPooling2D)   (None, 7, 7, 512)         0         \n",
      "_________________________________________________________________\n",
      "flatten (Flatten)            (None, 25088)             0         \n",
      "_________________________________________________________________\n",
      "dense (Dense)                (None, 2)                 50178     \n",
      "=================================================================\n",
      "Total params: 14,764,866\n",
      "Trainable params: 50,178\n",
      "Non-trainable params: 14,714,688\n",
      "_________________________________________________________________\n"
     ]
    }
   ],
   "source": [
    "\n",
    "# view the structure of the model\n",
    "model.summary()\n"
   ]
  },
  {
   "cell_type": "code",
   "execution_count": 12,
   "metadata": {},
   "outputs": [],
   "source": [
    "# tell the model what cost and optimization method to use\n",
    "model.compile(\n",
    "  loss='categorical_crossentropy',\n",
    "  optimizer='adam',\n",
    "  metrics=['accuracy']\n",
    ")\n"
   ]
  },
  {
   "cell_type": "code",
   "execution_count": 3,
   "metadata": {},
   "outputs": [],
   "source": [
    "# Use the Image Data Generator to import the images from the dataset\n",
    "from tensorflow.keras.preprocessing.image import ImageDataGenerator\n",
    "\n",
    "train_datagen = ImageDataGenerator(rescale = 1./255,\n",
    "                                   shear_range = 0.2,\n",
    "                                   zoom_range = 0.2,\n",
    "                                   horizontal_flip = True)\n",
    "\n",
    "test_datagen = ImageDataGenerator(rescale = 1./255)"
   ]
  },
  {
   "cell_type": "code",
   "execution_count": 6,
   "metadata": {},
   "outputs": [
    {
     "name": "stdout",
     "output_type": "stream",
     "text": [
      "Found 4002 images belonging to 2 classes.\n"
     ]
    }
   ],
   "source": [
    "# Make sure you provide the same target size as initialied for the image size\n",
    "training_set = train_datagen.flow_from_directory('Data/data/train',\n",
    "                                                 target_size = (224, 224),\n",
    "                                                 batch_size = 32,\n",
    "                                                 class_mode = 'categorical')"
   ]
  },
  {
   "cell_type": "code",
   "execution_count": 7,
   "metadata": {},
   "outputs": [
    {
     "name": "stdout",
     "output_type": "stream",
     "text": [
      "Found 1002 images belonging to 2 classes.\n"
     ]
    }
   ],
   "source": [
    "test_set = test_datagen.flow_from_directory('Data/data/test',\n",
    "                                            target_size = (224, 224),\n",
    "                                            batch_size = 32,\n",
    "                                            class_mode = 'categorical')"
   ]
  },
  {
   "cell_type": "code",
   "execution_count": 17,
   "metadata": {},
   "outputs": [
    {
     "name": "stderr",
     "output_type": "stream",
     "text": [
      "E:\\SoftwareBinaries\\miniconda\\envs\\test_env\\lib\\site-packages\\tensorflow\\python\\keras\\engine\\training.py:1844: UserWarning: `Model.fit_generator` is deprecated and will be removed in a future version. Please use `Model.fit`, which supports generators.\n",
      "  warnings.warn('`Model.fit_generator` is deprecated and '\n"
     ]
    },
    {
     "name": "stdout",
     "output_type": "stream",
     "text": [
      "Epoch 1/50\n",
      "126/126 [==============================] - 161s 1s/step - loss: 0.5951 - accuracy: 0.7573 - val_loss: 0.2065 - val_accuracy: 0.9122\n",
      "Epoch 2/50\n",
      "126/126 [==============================] - 146s 1s/step - loss: 0.1907 - accuracy: 0.9267 - val_loss: 0.2583 - val_accuracy: 0.8882\n",
      "Epoch 3/50\n",
      "126/126 [==============================] - 186s 1s/step - loss: 0.1823 - accuracy: 0.9231 - val_loss: 0.1780 - val_accuracy: 0.9242\n",
      "Epoch 4/50\n",
      "126/126 [==============================] - 179s 1s/step - loss: 0.1467 - accuracy: 0.9440 - val_loss: 0.2245 - val_accuracy: 0.9072\n",
      "Epoch 5/50\n",
      "126/126 [==============================] - 184s 1s/step - loss: 0.2155 - accuracy: 0.9175 - val_loss: 0.1883 - val_accuracy: 0.9311\n",
      "Epoch 6/50\n",
      "126/126 [==============================] - 181s 1s/step - loss: 0.1114 - accuracy: 0.9558 - val_loss: 0.2800 - val_accuracy: 0.9022\n",
      "Epoch 7/50\n",
      "126/126 [==============================] - 190s 2s/step - loss: 0.1086 - accuracy: 0.9566 - val_loss: 0.2605 - val_accuracy: 0.9102\n",
      "Epoch 8/50\n",
      "126/126 [==============================] - 201s 2s/step - loss: 0.0941 - accuracy: 0.9630 - val_loss: 0.1910 - val_accuracy: 0.9311\n",
      "Epoch 9/50\n",
      "126/126 [==============================] - 202s 2s/step - loss: 0.0875 - accuracy: 0.9651 - val_loss: 0.2140 - val_accuracy: 0.9202\n",
      "Epoch 10/50\n",
      "126/126 [==============================] - 196s 2s/step - loss: 0.0832 - accuracy: 0.9715 - val_loss: 0.2170 - val_accuracy: 0.9261\n",
      "Epoch 11/50\n",
      "126/126 [==============================] - 201s 2s/step - loss: 0.0861 - accuracy: 0.9685 - val_loss: 0.2609 - val_accuracy: 0.9142\n",
      "Epoch 12/50\n",
      "126/126 [==============================] - 197s 2s/step - loss: 0.0771 - accuracy: 0.9715 - val_loss: 0.1964 - val_accuracy: 0.9301\n",
      "Epoch 13/50\n",
      "126/126 [==============================] - 212s 2s/step - loss: 0.0641 - accuracy: 0.9750 - val_loss: 0.2137 - val_accuracy: 0.9222\n",
      "Epoch 14/50\n",
      "126/126 [==============================] - 224s 2s/step - loss: 0.0727 - accuracy: 0.9730 - val_loss: 0.2729 - val_accuracy: 0.9072\n",
      "Epoch 15/50\n",
      "126/126 [==============================] - 230s 2s/step - loss: 0.0668 - accuracy: 0.9722 - val_loss: 0.1926 - val_accuracy: 0.9341\n",
      "Epoch 16/50\n",
      "126/126 [==============================] - 220s 2s/step - loss: 0.0728 - accuracy: 0.9732 - val_loss: 0.1874 - val_accuracy: 0.9311\n",
      "Epoch 17/50\n",
      "126/126 [==============================] - 209s 2s/step - loss: 0.0548 - accuracy: 0.9829 - val_loss: 0.2038 - val_accuracy: 0.9271\n",
      "Epoch 18/50\n",
      "126/126 [==============================] - 179s 1s/step - loss: 0.0420 - accuracy: 0.9833 - val_loss: 0.2051 - val_accuracy: 0.9331\n",
      "Epoch 19/50\n",
      "126/126 [==============================] - 168s 1s/step - loss: 0.0445 - accuracy: 0.9853 - val_loss: 0.1995 - val_accuracy: 0.9311\n",
      "Epoch 20/50\n",
      "126/126 [==============================] - 170s 1s/step - loss: 0.0405 - accuracy: 0.9850 - val_loss: 0.2543 - val_accuracy: 0.9202\n",
      "Epoch 21/50\n",
      "126/126 [==============================] - 169s 1s/step - loss: 0.0714 - accuracy: 0.9743 - val_loss: 0.2297 - val_accuracy: 0.9301\n",
      "Epoch 22/50\n",
      "126/126 [==============================] - 2720s 22s/step - loss: 0.0679 - accuracy: 0.9756 - val_loss: 0.1937 - val_accuracy: 0.9331\n",
      "Epoch 23/50\n",
      "126/126 [==============================] - 191s 2s/step - loss: 0.0410 - accuracy: 0.9870 - val_loss: 0.2107 - val_accuracy: 0.9291\n",
      "Epoch 24/50\n",
      "126/126 [==============================] - 196s 2s/step - loss: 0.0453 - accuracy: 0.9838 - val_loss: 0.2164 - val_accuracy: 0.9331\n",
      "Epoch 25/50\n",
      "126/126 [==============================] - 137s 1s/step - loss: 0.0321 - accuracy: 0.9898 - val_loss: 0.4877 - val_accuracy: 0.8723\n",
      "Epoch 26/50\n",
      "126/126 [==============================] - 254s 2s/step - loss: 0.0665 - accuracy: 0.9763 - val_loss: 0.3456 - val_accuracy: 0.9022\n",
      "Epoch 27/50\n",
      "126/126 [==============================] - 161s 1s/step - loss: 0.0669 - accuracy: 0.9730 - val_loss: 0.2801 - val_accuracy: 0.9192\n",
      "Epoch 28/50\n",
      "126/126 [==============================] - 191s 2s/step - loss: 0.0494 - accuracy: 0.9785 - val_loss: 0.3123 - val_accuracy: 0.9222\n",
      "Epoch 29/50\n",
      "126/126 [==============================] - 179s 1s/step - loss: 0.1189 - accuracy: 0.9549 - val_loss: 0.2535 - val_accuracy: 0.9291\n",
      "Epoch 30/50\n",
      "126/126 [==============================] - 176s 1s/step - loss: 0.0276 - accuracy: 0.9883 - val_loss: 0.2478 - val_accuracy: 0.9271\n",
      "Epoch 31/50\n",
      "126/126 [==============================] - 174s 1s/step - loss: 0.0352 - accuracy: 0.9849 - val_loss: 0.2953 - val_accuracy: 0.9251\n",
      "Epoch 32/50\n",
      "126/126 [==============================] - 187s 1s/step - loss: 0.0431 - accuracy: 0.9854 - val_loss: 0.2573 - val_accuracy: 0.9261\n",
      "Epoch 33/50\n",
      "126/126 [==============================] - 188s 1s/step - loss: 0.0303 - accuracy: 0.9888 - val_loss: 0.2583 - val_accuracy: 0.9281\n",
      "Epoch 34/50\n",
      "126/126 [==============================] - 186s 1s/step - loss: 0.0322 - accuracy: 0.9881 - val_loss: 0.2618 - val_accuracy: 0.9251\n",
      "Epoch 35/50\n",
      "126/126 [==============================] - 182s 1s/step - loss: 0.0255 - accuracy: 0.9893 - val_loss: 0.2872 - val_accuracy: 0.9192\n",
      "Epoch 36/50\n",
      "126/126 [==============================] - 188s 1s/step - loss: 0.0468 - accuracy: 0.9828 - val_loss: 0.2345 - val_accuracy: 0.9321\n",
      "Epoch 37/50\n",
      "126/126 [==============================] - 192s 2s/step - loss: 0.0349 - accuracy: 0.9894 - val_loss: 0.2843 - val_accuracy: 0.9311\n",
      "Epoch 38/50\n",
      "126/126 [==============================] - 193s 2s/step - loss: 0.0342 - accuracy: 0.9869 - val_loss: 0.2364 - val_accuracy: 0.9281\n",
      "Epoch 39/50\n",
      "126/126 [==============================] - 199s 2s/step - loss: 0.0255 - accuracy: 0.9897 - val_loss: 0.2522 - val_accuracy: 0.9351\n",
      "Epoch 40/50\n",
      "126/126 [==============================] - 205s 2s/step - loss: 0.0407 - accuracy: 0.9862 - val_loss: 0.2713 - val_accuracy: 0.9291\n",
      "Epoch 41/50\n",
      "126/126 [==============================] - 200s 2s/step - loss: 0.0189 - accuracy: 0.9936 - val_loss: 0.2526 - val_accuracy: 0.9311\n",
      "Epoch 42/50\n",
      "126/126 [==============================] - 195s 2s/step - loss: 0.0431 - accuracy: 0.9851 - val_loss: 0.2670 - val_accuracy: 0.9301\n",
      "Epoch 43/50\n",
      "126/126 [==============================] - 191s 2s/step - loss: 0.0262 - accuracy: 0.9914 - val_loss: 0.2486 - val_accuracy: 0.9341\n",
      "Epoch 44/50\n",
      "126/126 [==============================] - 193s 2s/step - loss: 0.0141 - accuracy: 0.9940 - val_loss: 0.2523 - val_accuracy: 0.9361\n",
      "Epoch 45/50\n",
      "126/126 [==============================] - 205s 2s/step - loss: 0.0278 - accuracy: 0.9885 - val_loss: 0.2968 - val_accuracy: 0.9242\n",
      "Epoch 46/50\n",
      "126/126 [==============================] - 229s 2s/step - loss: 0.0285 - accuracy: 0.9884 - val_loss: 0.3049 - val_accuracy: 0.9232\n",
      "Epoch 47/50\n",
      "126/126 [==============================] - 228s 2s/step - loss: 0.0367 - accuracy: 0.9832 - val_loss: 0.2661 - val_accuracy: 0.9351\n",
      "Epoch 48/50\n",
      "126/126 [==============================] - 226s 2s/step - loss: 0.0210 - accuracy: 0.9909 - val_loss: 0.3105 - val_accuracy: 0.9291\n",
      "Epoch 49/50\n",
      "126/126 [==============================] - 223s 2s/step - loss: 0.0291 - accuracy: 0.9885 - val_loss: 0.2674 - val_accuracy: 0.9361\n",
      "Epoch 50/50\n",
      "126/126 [==============================] - 220s 2s/step - loss: 0.0250 - accuracy: 0.9911 - val_loss: 0.2836 - val_accuracy: 0.9291\n"
     ]
    }
   ],
   "source": [
    "# fit the model\n",
    "# Run the cell. It will take some time to execute\n",
    "r = model.fit_generator(\n",
    "  training_set,\n",
    "  validation_data=test_set,\n",
    "  epochs=50,\n",
    "  steps_per_epoch=len(training_set),\n",
    "  validation_steps=len(test_set)\n",
    ")"
   ]
  },
  {
   "cell_type": "code",
   "execution_count": null,
   "metadata": {},
   "outputs": [],
   "source": []
  },
  {
   "cell_type": "code",
   "execution_count": 16,
   "metadata": {},
   "outputs": [
    {
     "ename": "NameError",
     "evalue": "name 'plt' is not defined",
     "output_type": "error",
     "traceback": [
      "\u001b[1;31m---------------------------------------------------------------------------\u001b[0m",
      "\u001b[1;31mNameError\u001b[0m                                 Traceback (most recent call last)",
      "\u001b[1;32m<ipython-input-16-bb6bf5bcc936>\u001b[0m in \u001b[0;36m<module>\u001b[1;34m\u001b[0m\n\u001b[0;32m      1\u001b[0m \u001b[1;31m# plot the loss\u001b[0m\u001b[1;33m\u001b[0m\u001b[1;33m\u001b[0m\u001b[1;33m\u001b[0m\u001b[0m\n\u001b[1;32m----> 2\u001b[1;33m \u001b[0mplt\u001b[0m\u001b[1;33m.\u001b[0m\u001b[0mplot\u001b[0m\u001b[1;33m(\u001b[0m\u001b[0mr\u001b[0m\u001b[1;33m.\u001b[0m\u001b[0mhistory\u001b[0m\u001b[1;33m[\u001b[0m\u001b[1;34m'loss'\u001b[0m\u001b[1;33m]\u001b[0m\u001b[1;33m,\u001b[0m \u001b[0mlabel\u001b[0m\u001b[1;33m=\u001b[0m\u001b[1;34m'train loss'\u001b[0m\u001b[1;33m)\u001b[0m\u001b[1;33m\u001b[0m\u001b[1;33m\u001b[0m\u001b[0m\n\u001b[0m\u001b[0;32m      3\u001b[0m \u001b[0mplt\u001b[0m\u001b[1;33m.\u001b[0m\u001b[0mplot\u001b[0m\u001b[1;33m(\u001b[0m\u001b[0mr\u001b[0m\u001b[1;33m.\u001b[0m\u001b[0mhistory\u001b[0m\u001b[1;33m[\u001b[0m\u001b[1;34m'val_loss'\u001b[0m\u001b[1;33m]\u001b[0m\u001b[1;33m,\u001b[0m \u001b[0mlabel\u001b[0m\u001b[1;33m=\u001b[0m\u001b[1;34m'val loss'\u001b[0m\u001b[1;33m)\u001b[0m\u001b[1;33m\u001b[0m\u001b[1;33m\u001b[0m\u001b[0m\n\u001b[0;32m      4\u001b[0m \u001b[0mplt\u001b[0m\u001b[1;33m.\u001b[0m\u001b[0mlegend\u001b[0m\u001b[1;33m(\u001b[0m\u001b[1;33m)\u001b[0m\u001b[1;33m\u001b[0m\u001b[1;33m\u001b[0m\u001b[0m\n\u001b[0;32m      5\u001b[0m \u001b[0mplt\u001b[0m\u001b[1;33m.\u001b[0m\u001b[0mshow\u001b[0m\u001b[1;33m(\u001b[0m\u001b[1;33m)\u001b[0m\u001b[1;33m\u001b[0m\u001b[1;33m\u001b[0m\u001b[0m\n",
      "\u001b[1;31mNameError\u001b[0m: name 'plt' is not defined"
     ]
    }
   ],
   "source": [
    "# plot the loss\n",
    "import matplotlib.pyplot as plt\n",
    "plt.plot(r.history['loss'], label='train loss')\n",
    "plt.plot(r.history['val_loss'], label='val loss')\n",
    "plt.legend()\n",
    "plt.show()\n",
    "plt.savefig('LossVal_loss')\n",
    "\n",
    "# plot the accuracy\n",
    "plt.plot(r.history['accuracy'], label='train acc')\n",
    "plt.plot(r.history['val_accuracy'], label='val acc')\n",
    "plt.legend()\n",
    "plt.show()\n",
    "plt.savefig('AccVal_acc')"
   ]
  },
  {
   "cell_type": "code",
   "execution_count": 18,
   "metadata": {},
   "outputs": [],
   "source": [
    "# save it as a h5 file\n",
    "\n",
    "\n",
    "from tensorflow.keras.models import load_model\n",
    "\n",
    "model.save('model_vgg16.h5')"
   ]
  },
  {
   "cell_type": "code",
   "execution_count": null,
   "metadata": {},
   "outputs": [],
   "source": []
  },
  {
   "cell_type": "code",
   "execution_count": null,
   "metadata": {},
   "outputs": [],
   "source": [
    "\n",
    "y_pred = model.predict(test_set)\n"
   ]
  },
  {
   "cell_type": "code",
   "execution_count": null,
   "metadata": {},
   "outputs": [],
   "source": [
    "y_pred"
   ]
  },
  {
   "cell_type": "code",
   "execution_count": null,
   "metadata": {},
   "outputs": [],
   "source": [
    "import numpy as np\n",
    "y_pred = np.argmax(y_pred, axis=1)"
   ]
  },
  {
   "cell_type": "code",
   "execution_count": null,
   "metadata": {},
   "outputs": [],
   "source": [
    "y_pred"
   ]
  },
  {
   "cell_type": "code",
   "execution_count": null,
   "metadata": {},
   "outputs": [],
   "source": []
  },
  {
   "cell_type": "code",
   "execution_count": null,
   "metadata": {},
   "outputs": [],
   "source": [
    "from tensorflow.keras.models import load_model\n",
    "from tensorflow.keras.preprocessing import image"
   ]
  },
  {
   "cell_type": "code",
   "execution_count": 21,
   "metadata": {},
   "outputs": [],
   "source": [
    "model=load_model('model_vgg16.h5')"
   ]
  },
  {
   "cell_type": "code",
   "execution_count": null,
   "metadata": {},
   "outputs": [],
   "source": [
    "img_data"
   ]
  },
  {
   "cell_type": "code",
   "execution_count": 60,
   "metadata": {},
   "outputs": [],
   "source": [
    "img=image.load_img('.\\\\Data\\\\train\\\\cat\\\\cat.3.jpg',target_size=(224,224))\n",
    "\n"
   ]
  },
  {
   "cell_type": "code",
   "execution_count": 61,
   "metadata": {},
   "outputs": [],
   "source": [
    "x=image.img_to_array(img)\n"
   ]
  },
  {
   "cell_type": "code",
   "execution_count": 62,
   "metadata": {},
   "outputs": [
    {
     "data": {
      "text/plain": [
       "(224, 224, 3)"
      ]
     },
     "execution_count": 62,
     "metadata": {},
     "output_type": "execute_result"
    }
   ],
   "source": [
    "x.shape"
   ]
  },
  {
   "cell_type": "code",
   "execution_count": 63,
   "metadata": {},
   "outputs": [],
   "source": [
    "x=x/255"
   ]
  },
  {
   "cell_type": "code",
   "execution_count": 64,
   "metadata": {},
   "outputs": [
    {
     "data": {
      "text/plain": [
       "(1, 224, 224, 3)"
      ]
     },
     "execution_count": 64,
     "metadata": {},
     "output_type": "execute_result"
    }
   ],
   "source": [
    "x=np.expand_dims(x,axis=0)\n",
    "img_data=preprocess_input(x)\n",
    "img_data.shape"
   ]
  },
  {
   "cell_type": "code",
   "execution_count": 65,
   "metadata": {},
   "outputs": [
    {
     "data": {
      "text/plain": [
       "array([[6.060974e-11, 1.000000e+00]], dtype=float32)"
      ]
     },
     "execution_count": 65,
     "metadata": {},
     "output_type": "execute_result"
    }
   ],
   "source": [
    "model.predict(img_data)"
   ]
  },
  {
   "cell_type": "code",
   "execution_count": 57,
   "metadata": {},
   "outputs": [],
   "source": [
    "a=np.argmax(model.predict(img_data), axis=1)"
   ]
  },
  {
   "cell_type": "code",
   "execution_count": null,
   "metadata": {},
   "outputs": [],
   "source": [
    "a==1"
   ]
  },
  {
   "cell_type": "code",
   "execution_count": 30,
   "metadata": {},
   "outputs": [],
   "source": [
    "%config Completer.use_jedi = False"
   ]
  },
  {
   "cell_type": "code",
   "execution_count": 31,
   "metadata": {},
   "outputs": [
    {
     "ename": "AttributeError",
     "evalue": "'Functional' object has no attribute 'classes_'",
     "output_type": "error",
     "traceback": [
      "\u001b[1;31m---------------------------------------------------------------------------\u001b[0m",
      "\u001b[1;31mAttributeError\u001b[0m                            Traceback (most recent call last)",
      "\u001b[1;32m<ipython-input-31-2ac887361ddf>\u001b[0m in \u001b[0;36m<module>\u001b[1;34m\u001b[0m\n\u001b[1;32m----> 1\u001b[1;33m \u001b[0mmodel\u001b[0m\u001b[1;33m.\u001b[0m\u001b[0mclasses_\u001b[0m\u001b[1;33m\u001b[0m\u001b[1;33m\u001b[0m\u001b[0m\n\u001b[0m",
      "\u001b[1;31mAttributeError\u001b[0m: 'Functional' object has no attribute 'classes_'"
     ]
    }
   ],
   "source": [
    "model."
   ]
  },
  {
   "cell_type": "code",
   "execution_count": null,
   "metadata": {},
   "outputs": [],
   "source": []
  }
 ],
 "metadata": {
  "kernelspec": {
   "display_name": "Python 3",
   "language": "python",
   "name": "python3"
  },
  "language_info": {
   "codemirror_mode": {
    "name": "ipython",
    "version": 3
   },
   "file_extension": ".py",
   "mimetype": "text/x-python",
   "name": "python",
   "nbconvert_exporter": "python",
   "pygments_lexer": "ipython3",
   "version": "3.8.5"
  }
 },
 "nbformat": 4,
 "nbformat_minor": 2
}
