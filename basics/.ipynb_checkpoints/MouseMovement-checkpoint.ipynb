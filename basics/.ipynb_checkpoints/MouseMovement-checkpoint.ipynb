{
 "cells": [
  {
   "cell_type": "code",
   "execution_count": 1,
   "metadata": {},
   "outputs": [],
   "source": [
    "import cv2\n",
    "import numpy as np\n",
    "\n"
   ]
  },
  {
   "cell_type": "code",
   "execution_count": 31,
   "metadata": {},
   "outputs": [],
   "source": [
    "# this code draws on right click  a red circle\n",
    "# and on left click a blue circle\n",
    "\n",
    "def draw_circle(event,x,y, flags , param):\n",
    "    if event == cv2.EVENT_LBUTTONDOWN:\n",
    "        cv2.circle(img,(x,y), 50,(0,255,0),-1)\n",
    "    elif event == cv2.EVENT_RBUTTONDOWN:\n",
    "        cv2.circle(img,(x,y), 50,(0,0,255),-1)\n",
    "\n",
    "cv2.namedWindow(winname = 'my_pic')\n",
    "\n",
    "cv2.setMouseCallback('my_pic', draw_circle)\n",
    "\n",
    "\n",
    "img = np.zeros((512,512,3))\n",
    "\n",
    "while True:\n",
    "    cv2.imshow('my_pic', img)\n",
    "    if cv2.waitKey(20) & 0xFF == 27:\n",
    "        break\n",
    "        \n",
    "cv2.destroyAllWindows()\n"
   ]
  },
  {
   "cell_type": "code",
   "execution_count": 20,
   "metadata": {},
   "outputs": [
    {
     "data": {
      "text/plain": [
       "numpy.float64"
      ]
     },
     "execution_count": 20,
     "metadata": {},
     "output_type": "execute_result"
    }
   ],
   "source": [
    "type(img[0][1][1])"
   ]
  },
  {
   "cell_type": "code",
   "execution_count": 30,
   "metadata": {},
   "outputs": [],
   "source": [
    "# dragging mouse and making a rectangle on image..\n",
    "\n",
    "# variables\n",
    "isdrawing = False # false when button is nt clicked\n",
    "ix,iy = -1,-1\n",
    "\n",
    "# function\n",
    "def draw_rectangle( event, x,y,flags, params):\n",
    "    global ix,iy,isdrawing\n",
    "    \n",
    "    if event == cv2.EVENT_LBUTTONDOWN:\n",
    "        isdrawing = True\n",
    "        ix, iy= x,y\n",
    "    elif event == cv2.EVENT_MOUSEMOVE:\n",
    "        if isdrawing == True:\n",
    "            cv2.rectangle(img1,(ix,iy),(x,y), color = (255,0,0),thickness=-1)\n",
    "    elif event == cv2.EVENT_LBUTTONUP:\n",
    "        isdrawing= False\n",
    "        cv2.rectangle(img1,(ix,iy),(x,y), color = (255,0,0), thickness = -1)\n",
    "\n",
    "# showing the image\n",
    "\n",
    "img1 = np.zeros((512,512,3))\n",
    "\n",
    "cv2.namedWindow(winname = 'my_drawing')\n",
    "\n",
    "cv2.setMouseCallback('my_drawing',draw_rectangle)\n",
    "\n",
    "while True:\n",
    "    cv2.imshow('my_drawing', img1)\n",
    "    if cv2.waitKey(20) & 0xFF == 27:\n",
    "        break\n",
    "        \n",
    "cv2.destroyAllWindows()"
   ]
  },
  {
   "cell_type": "code",
   "execution_count": null,
   "metadata": {},
   "outputs": [],
   "source": []
  }
 ],
 "metadata": {
  "kernelspec": {
   "display_name": "Python 3",
   "language": "python",
   "name": "python3"
  },
  "language_info": {
   "codemirror_mode": {
    "name": "ipython",
    "version": 3
   },
   "file_extension": ".py",
   "mimetype": "text/x-python",
   "name": "python",
   "nbconvert_exporter": "python",
   "pygments_lexer": "ipython3",
   "version": "3.6.6"
  }
 },
 "nbformat": 4,
 "nbformat_minor": 2
}
